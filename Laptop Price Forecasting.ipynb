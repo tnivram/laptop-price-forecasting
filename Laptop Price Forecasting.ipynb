{
  "nbformat": 4,
  "nbformat_minor": 0,
  "metadata": {
    "colab": {
      "provenance": []
    },
    "kernelspec": {
      "name": "python3",
      "display_name": "Python 3"
    },
    "language_info": {
      "name": "python"
    }
  },
  "cells": [
    {
      "cell_type": "markdown",
      "source": [
        "# **Laptop Price Forecasting💻**\n",
        "\n",
        "Objective:\n",
        "The goal of this project is to build a machine learning model to forecast the price of a laptop based on its features. The project demonstrates skills in data processing, data visualization, and machine learning model building.\n",
        "\n",
        "\n",
        "The project is divided into four main parts:\n",
        "\n",
        "1. **Data Preprocessing/Feature Engineering:**\n",
        "   - **Handling Missing Values and Duplicates:** Filling in any null values and removing duplicate columns to clean the dataset.\n",
        "   - **String Transformation:** Converting noisy string columns into formats that are easier for the model to process.\n",
        "\n",
        "2. **Exploratory Data Analysis (EDA):**\n",
        "   - **Visualizations:** Creating plots such as countplots, boxplots, and barplots to analyze data patterns and distributions.\n",
        "   - **Price Transformation:** Observing that the price distribution is right-skewed, applying a natural logarithm transformation to achieve a more normal distribution, which is beneficial for the machine learning algorithm.\n",
        "\n",
        "3. **Model Building:**\n",
        "   - **Model Development:** Building and training several machine learning models namely Linear Regression, Support Vector Regression (SVR), Random Forest, and XGBoost.\n",
        "   - **Model Evaluation:** Comparing the performance of these models using various evaluation metrics to determine the best-performing model.\n",
        "\n",
        "4. **Forecasting:**\n",
        "   - **User Input Interface:** Developing an input page where users can enter their laptop specifications.\n",
        "   - **Price Prediction:** Using the input data to predict the laptop price based on the trained model.\n"
      ],
      "metadata": {
        "id": "LNNpFZmCnxjo"
      }
    },
    {
      "cell_type": "code",
      "execution_count": null,
      "metadata": {
        "id": "1PbjAkypcUnN"
      },
      "outputs": [],
      "source": [
        "import pandas as pd\n",
        "import matplotlib.pyplot as plt\n",
        "import seaborn as sns\n",
        "import numpy as np\n",
        "import re"
      ]
    },
    {
      "cell_type": "markdown",
      "source": [
        "### **Data loading**\n",
        "\n",
        "You can find the data used [here](https://drive.google.com/file/d/18AbkP0XKceCoQuKz4B4Hi8hABilcZar5/view?usp=sharing)\n",
        "\n",
        "To replicate, download the csv file above and fill in the respective path in the code below."
      ],
      "metadata": {
        "id": "S_7QKOhJ5T_W"
      }
    },
    {
      "cell_type": "code",
      "source": [
        "path = #Fill in the csv path here\n",
        "data = pd.read_csv(path, index_col=0)\n",
        "data.head()"
      ],
      "metadata": {
        "colab": {
          "base_uri": "https://localhost:8080/",
          "height": 206
        },
        "id": "LvYKcfQmymQX",
        "outputId": "1583f4a5-e484-4046-abf7-37b162936b5a"
      },
      "execution_count": null,
      "outputs": [
        {
          "output_type": "execute_result",
          "data": {
            "text/plain": [
              "  Company   TypeName  Inches                    ScreenResolution  \\\n",
              "0   Apple  Ultrabook    13.3  IPS Panel Retina Display 2560x1600   \n",
              "1   Apple  Ultrabook    13.3                            1440x900   \n",
              "2      HP   Notebook    15.6                   Full HD 1920x1080   \n",
              "3   Apple  Ultrabook    15.4  IPS Panel Retina Display 2880x1800   \n",
              "4   Apple  Ultrabook    13.3  IPS Panel Retina Display 2560x1600   \n",
              "\n",
              "                          Cpu   Ram               Memory  \\\n",
              "0        Intel Core i5 2.3GHz   8GB            128GB SSD   \n",
              "1        Intel Core i5 1.8GHz   8GB  128GB Flash Storage   \n",
              "2  Intel Core i5 7200U 2.5GHz   8GB            256GB SSD   \n",
              "3        Intel Core i7 2.7GHz  16GB            512GB SSD   \n",
              "4        Intel Core i5 3.1GHz   8GB            256GB SSD   \n",
              "\n",
              "                            Gpu  OpSys  Weight     Price_IDR  \n",
              "0  Intel Iris Plus Graphics 640  macOS  1.37kg  1.388315e+07  \n",
              "1        Intel HD Graphics 6000  macOS  1.34kg  9.315679e+06  \n",
              "2         Intel HD Graphics 620  No OS  1.86kg  5.958702e+06  \n",
              "3            AMD Radeon Pro 455  macOS  1.83kg  2.629549e+07  \n",
              "4  Intel Iris Plus Graphics 650  macOS  1.37kg  1.869063e+07  "
            ],
            "text/html": [
              "\n",
              "  <div id=\"df-6be6a032-b866-4de0-b415-b38bc9890a11\" class=\"colab-df-container\">\n",
              "    <div>\n",
              "<style scoped>\n",
              "    .dataframe tbody tr th:only-of-type {\n",
              "        vertical-align: middle;\n",
              "    }\n",
              "\n",
              "    .dataframe tbody tr th {\n",
              "        vertical-align: top;\n",
              "    }\n",
              "\n",
              "    .dataframe thead th {\n",
              "        text-align: right;\n",
              "    }\n",
              "</style>\n",
              "<table border=\"1\" class=\"dataframe\">\n",
              "  <thead>\n",
              "    <tr style=\"text-align: right;\">\n",
              "      <th></th>\n",
              "      <th>Company</th>\n",
              "      <th>TypeName</th>\n",
              "      <th>Inches</th>\n",
              "      <th>ScreenResolution</th>\n",
              "      <th>Cpu</th>\n",
              "      <th>Ram</th>\n",
              "      <th>Memory</th>\n",
              "      <th>Gpu</th>\n",
              "      <th>OpSys</th>\n",
              "      <th>Weight</th>\n",
              "      <th>Price_IDR</th>\n",
              "    </tr>\n",
              "  </thead>\n",
              "  <tbody>\n",
              "    <tr>\n",
              "      <th>0</th>\n",
              "      <td>Apple</td>\n",
              "      <td>Ultrabook</td>\n",
              "      <td>13.3</td>\n",
              "      <td>IPS Panel Retina Display 2560x1600</td>\n",
              "      <td>Intel Core i5 2.3GHz</td>\n",
              "      <td>8GB</td>\n",
              "      <td>128GB SSD</td>\n",
              "      <td>Intel Iris Plus Graphics 640</td>\n",
              "      <td>macOS</td>\n",
              "      <td>1.37kg</td>\n",
              "      <td>1.388315e+07</td>\n",
              "    </tr>\n",
              "    <tr>\n",
              "      <th>1</th>\n",
              "      <td>Apple</td>\n",
              "      <td>Ultrabook</td>\n",
              "      <td>13.3</td>\n",
              "      <td>1440x900</td>\n",
              "      <td>Intel Core i5 1.8GHz</td>\n",
              "      <td>8GB</td>\n",
              "      <td>128GB Flash Storage</td>\n",
              "      <td>Intel HD Graphics 6000</td>\n",
              "      <td>macOS</td>\n",
              "      <td>1.34kg</td>\n",
              "      <td>9.315679e+06</td>\n",
              "    </tr>\n",
              "    <tr>\n",
              "      <th>2</th>\n",
              "      <td>HP</td>\n",
              "      <td>Notebook</td>\n",
              "      <td>15.6</td>\n",
              "      <td>Full HD 1920x1080</td>\n",
              "      <td>Intel Core i5 7200U 2.5GHz</td>\n",
              "      <td>8GB</td>\n",
              "      <td>256GB SSD</td>\n",
              "      <td>Intel HD Graphics 620</td>\n",
              "      <td>No OS</td>\n",
              "      <td>1.86kg</td>\n",
              "      <td>5.958702e+06</td>\n",
              "    </tr>\n",
              "    <tr>\n",
              "      <th>3</th>\n",
              "      <td>Apple</td>\n",
              "      <td>Ultrabook</td>\n",
              "      <td>15.4</td>\n",
              "      <td>IPS Panel Retina Display 2880x1800</td>\n",
              "      <td>Intel Core i7 2.7GHz</td>\n",
              "      <td>16GB</td>\n",
              "      <td>512GB SSD</td>\n",
              "      <td>AMD Radeon Pro 455</td>\n",
              "      <td>macOS</td>\n",
              "      <td>1.83kg</td>\n",
              "      <td>2.629549e+07</td>\n",
              "    </tr>\n",
              "    <tr>\n",
              "      <th>4</th>\n",
              "      <td>Apple</td>\n",
              "      <td>Ultrabook</td>\n",
              "      <td>13.3</td>\n",
              "      <td>IPS Panel Retina Display 2560x1600</td>\n",
              "      <td>Intel Core i5 3.1GHz</td>\n",
              "      <td>8GB</td>\n",
              "      <td>256GB SSD</td>\n",
              "      <td>Intel Iris Plus Graphics 650</td>\n",
              "      <td>macOS</td>\n",
              "      <td>1.37kg</td>\n",
              "      <td>1.869063e+07</td>\n",
              "    </tr>\n",
              "  </tbody>\n",
              "</table>\n",
              "</div>\n",
              "    <div class=\"colab-df-buttons\">\n",
              "\n",
              "  <div class=\"colab-df-container\">\n",
              "    <button class=\"colab-df-convert\" onclick=\"convertToInteractive('df-6be6a032-b866-4de0-b415-b38bc9890a11')\"\n",
              "            title=\"Convert this dataframe to an interactive table.\"\n",
              "            style=\"display:none;\">\n",
              "\n",
              "  <svg xmlns=\"http://www.w3.org/2000/svg\" height=\"24px\" viewBox=\"0 -960 960 960\">\n",
              "    <path d=\"M120-120v-720h720v720H120Zm60-500h600v-160H180v160Zm220 220h160v-160H400v160Zm0 220h160v-160H400v160ZM180-400h160v-160H180v160Zm440 0h160v-160H620v160ZM180-180h160v-160H180v160Zm440 0h160v-160H620v160Z\"/>\n",
              "  </svg>\n",
              "    </button>\n",
              "\n",
              "  <style>\n",
              "    .colab-df-container {\n",
              "      display:flex;\n",
              "      gap: 12px;\n",
              "    }\n",
              "\n",
              "    .colab-df-convert {\n",
              "      background-color: #E8F0FE;\n",
              "      border: none;\n",
              "      border-radius: 50%;\n",
              "      cursor: pointer;\n",
              "      display: none;\n",
              "      fill: #1967D2;\n",
              "      height: 32px;\n",
              "      padding: 0 0 0 0;\n",
              "      width: 32px;\n",
              "    }\n",
              "\n",
              "    .colab-df-convert:hover {\n",
              "      background-color: #E2EBFA;\n",
              "      box-shadow: 0px 1px 2px rgba(60, 64, 67, 0.3), 0px 1px 3px 1px rgba(60, 64, 67, 0.15);\n",
              "      fill: #174EA6;\n",
              "    }\n",
              "\n",
              "    .colab-df-buttons div {\n",
              "      margin-bottom: 4px;\n",
              "    }\n",
              "\n",
              "    [theme=dark] .colab-df-convert {\n",
              "      background-color: #3B4455;\n",
              "      fill: #D2E3FC;\n",
              "    }\n",
              "\n",
              "    [theme=dark] .colab-df-convert:hover {\n",
              "      background-color: #434B5C;\n",
              "      box-shadow: 0px 1px 3px 1px rgba(0, 0, 0, 0.15);\n",
              "      filter: drop-shadow(0px 1px 2px rgba(0, 0, 0, 0.3));\n",
              "      fill: #FFFFFF;\n",
              "    }\n",
              "  </style>\n",
              "\n",
              "    <script>\n",
              "      const buttonEl =\n",
              "        document.querySelector('#df-6be6a032-b866-4de0-b415-b38bc9890a11 button.colab-df-convert');\n",
              "      buttonEl.style.display =\n",
              "        google.colab.kernel.accessAllowed ? 'block' : 'none';\n",
              "\n",
              "      async function convertToInteractive(key) {\n",
              "        const element = document.querySelector('#df-6be6a032-b866-4de0-b415-b38bc9890a11');\n",
              "        const dataTable =\n",
              "          await google.colab.kernel.invokeFunction('convertToInteractive',\n",
              "                                                    [key], {});\n",
              "        if (!dataTable) return;\n",
              "\n",
              "        const docLinkHtml = 'Like what you see? Visit the ' +\n",
              "          '<a target=\"_blank\" href=https://colab.research.google.com/notebooks/data_table.ipynb>data table notebook</a>'\n",
              "          + ' to learn more about interactive tables.';\n",
              "        element.innerHTML = '';\n",
              "        dataTable['output_type'] = 'display_data';\n",
              "        await google.colab.output.renderOutput(dataTable, element);\n",
              "        const docLink = document.createElement('div');\n",
              "        docLink.innerHTML = docLinkHtml;\n",
              "        element.appendChild(docLink);\n",
              "      }\n",
              "    </script>\n",
              "  </div>\n",
              "\n",
              "\n",
              "<div id=\"df-bfb4d4fb-c094-44ff-9c02-f670db6068aa\">\n",
              "  <button class=\"colab-df-quickchart\" onclick=\"quickchart('df-bfb4d4fb-c094-44ff-9c02-f670db6068aa')\"\n",
              "            title=\"Suggest charts\"\n",
              "            style=\"display:none;\">\n",
              "\n",
              "<svg xmlns=\"http://www.w3.org/2000/svg\" height=\"24px\"viewBox=\"0 0 24 24\"\n",
              "     width=\"24px\">\n",
              "    <g>\n",
              "        <path d=\"M19 3H5c-1.1 0-2 .9-2 2v14c0 1.1.9 2 2 2h14c1.1 0 2-.9 2-2V5c0-1.1-.9-2-2-2zM9 17H7v-7h2v7zm4 0h-2V7h2v10zm4 0h-2v-4h2v4z\"/>\n",
              "    </g>\n",
              "</svg>\n",
              "  </button>\n",
              "\n",
              "<style>\n",
              "  .colab-df-quickchart {\n",
              "      --bg-color: #E8F0FE;\n",
              "      --fill-color: #1967D2;\n",
              "      --hover-bg-color: #E2EBFA;\n",
              "      --hover-fill-color: #174EA6;\n",
              "      --disabled-fill-color: #AAA;\n",
              "      --disabled-bg-color: #DDD;\n",
              "  }\n",
              "\n",
              "  [theme=dark] .colab-df-quickchart {\n",
              "      --bg-color: #3B4455;\n",
              "      --fill-color: #D2E3FC;\n",
              "      --hover-bg-color: #434B5C;\n",
              "      --hover-fill-color: #FFFFFF;\n",
              "      --disabled-bg-color: #3B4455;\n",
              "      --disabled-fill-color: #666;\n",
              "  }\n",
              "\n",
              "  .colab-df-quickchart {\n",
              "    background-color: var(--bg-color);\n",
              "    border: none;\n",
              "    border-radius: 50%;\n",
              "    cursor: pointer;\n",
              "    display: none;\n",
              "    fill: var(--fill-color);\n",
              "    height: 32px;\n",
              "    padding: 0;\n",
              "    width: 32px;\n",
              "  }\n",
              "\n",
              "  .colab-df-quickchart:hover {\n",
              "    background-color: var(--hover-bg-color);\n",
              "    box-shadow: 0 1px 2px rgba(60, 64, 67, 0.3), 0 1px 3px 1px rgba(60, 64, 67, 0.15);\n",
              "    fill: var(--button-hover-fill-color);\n",
              "  }\n",
              "\n",
              "  .colab-df-quickchart-complete:disabled,\n",
              "  .colab-df-quickchart-complete:disabled:hover {\n",
              "    background-color: var(--disabled-bg-color);\n",
              "    fill: var(--disabled-fill-color);\n",
              "    box-shadow: none;\n",
              "  }\n",
              "\n",
              "  .colab-df-spinner {\n",
              "    border: 2px solid var(--fill-color);\n",
              "    border-color: transparent;\n",
              "    border-bottom-color: var(--fill-color);\n",
              "    animation:\n",
              "      spin 1s steps(1) infinite;\n",
              "  }\n",
              "\n",
              "  @keyframes spin {\n",
              "    0% {\n",
              "      border-color: transparent;\n",
              "      border-bottom-color: var(--fill-color);\n",
              "      border-left-color: var(--fill-color);\n",
              "    }\n",
              "    20% {\n",
              "      border-color: transparent;\n",
              "      border-left-color: var(--fill-color);\n",
              "      border-top-color: var(--fill-color);\n",
              "    }\n",
              "    30% {\n",
              "      border-color: transparent;\n",
              "      border-left-color: var(--fill-color);\n",
              "      border-top-color: var(--fill-color);\n",
              "      border-right-color: var(--fill-color);\n",
              "    }\n",
              "    40% {\n",
              "      border-color: transparent;\n",
              "      border-right-color: var(--fill-color);\n",
              "      border-top-color: var(--fill-color);\n",
              "    }\n",
              "    60% {\n",
              "      border-color: transparent;\n",
              "      border-right-color: var(--fill-color);\n",
              "    }\n",
              "    80% {\n",
              "      border-color: transparent;\n",
              "      border-right-color: var(--fill-color);\n",
              "      border-bottom-color: var(--fill-color);\n",
              "    }\n",
              "    90% {\n",
              "      border-color: transparent;\n",
              "      border-bottom-color: var(--fill-color);\n",
              "    }\n",
              "  }\n",
              "</style>\n",
              "\n",
              "  <script>\n",
              "    async function quickchart(key) {\n",
              "      const quickchartButtonEl =\n",
              "        document.querySelector('#' + key + ' button');\n",
              "      quickchartButtonEl.disabled = true;  // To prevent multiple clicks.\n",
              "      quickchartButtonEl.classList.add('colab-df-spinner');\n",
              "      try {\n",
              "        const charts = await google.colab.kernel.invokeFunction(\n",
              "            'suggestCharts', [key], {});\n",
              "      } catch (error) {\n",
              "        console.error('Error during call to suggestCharts:', error);\n",
              "      }\n",
              "      quickchartButtonEl.classList.remove('colab-df-spinner');\n",
              "      quickchartButtonEl.classList.add('colab-df-quickchart-complete');\n",
              "    }\n",
              "    (() => {\n",
              "      let quickchartButtonEl =\n",
              "        document.querySelector('#df-bfb4d4fb-c094-44ff-9c02-f670db6068aa button');\n",
              "      quickchartButtonEl.style.display =\n",
              "        google.colab.kernel.accessAllowed ? 'block' : 'none';\n",
              "    })();\n",
              "  </script>\n",
              "</div>\n",
              "\n",
              "    </div>\n",
              "  </div>\n"
            ],
            "application/vnd.google.colaboratory.intrinsic+json": {
              "type": "dataframe",
              "variable_name": "data",
              "summary": "{\n  \"name\": \"data\",\n  \"rows\": 1303,\n  \"fields\": [\n    {\n      \"column\": \"Company\",\n      \"properties\": {\n        \"dtype\": \"category\",\n        \"num_unique_values\": 19,\n        \"samples\": [\n          \"Apple\",\n          \"Lenovo\",\n          \"Xiaomi\"\n        ],\n        \"semantic_type\": \"\",\n        \"description\": \"\"\n      }\n    },\n    {\n      \"column\": \"TypeName\",\n      \"properties\": {\n        \"dtype\": \"category\",\n        \"num_unique_values\": 6,\n        \"samples\": [\n          \"Ultrabook\",\n          \"Notebook\",\n          \"Workstation\"\n        ],\n        \"semantic_type\": \"\",\n        \"description\": \"\"\n      }\n    },\n    {\n      \"column\": \"Inches\",\n      \"properties\": {\n        \"dtype\": \"number\",\n        \"std\": 1.4263040545691645,\n        \"min\": 10.1,\n        \"max\": 18.4,\n        \"num_unique_values\": 18,\n        \"samples\": [\n          13.3,\n          15.6,\n          13.5\n        ],\n        \"semantic_type\": \"\",\n        \"description\": \"\"\n      }\n    },\n    {\n      \"column\": \"ScreenResolution\",\n      \"properties\": {\n        \"dtype\": \"category\",\n        \"num_unique_values\": 40,\n        \"samples\": [\n          \"IPS Panel 4K Ultra HD 3840x2160\",\n          \"4K Ultra HD / Touchscreen 3840x2160\",\n          \"IPS Panel Full HD 2160x1440\"\n        ],\n        \"semantic_type\": \"\",\n        \"description\": \"\"\n      }\n    },\n    {\n      \"column\": \"Cpu\",\n      \"properties\": {\n        \"dtype\": \"category\",\n        \"num_unique_values\": 118,\n        \"samples\": [\n          \"Intel Celeron Dual Core 3855U 1.6GHz\",\n          \"AMD A6-Series 7310 2GHz\",\n          \"Intel Core i5 3.1GHz\"\n        ],\n        \"semantic_type\": \"\",\n        \"description\": \"\"\n      }\n    },\n    {\n      \"column\": \"Ram\",\n      \"properties\": {\n        \"dtype\": \"category\",\n        \"num_unique_values\": 9,\n        \"samples\": [\n          \"24GB\",\n          \"16GB\",\n          \"6GB\"\n        ],\n        \"semantic_type\": \"\",\n        \"description\": \"\"\n      }\n    },\n    {\n      \"column\": \"Memory\",\n      \"properties\": {\n        \"dtype\": \"category\",\n        \"num_unique_values\": 39,\n        \"samples\": [\n          \"240GB SSD\",\n          \"1.0TB HDD\",\n          \"500GB HDD\"\n        ],\n        \"semantic_type\": \"\",\n        \"description\": \"\"\n      }\n    },\n    {\n      \"column\": \"Gpu\",\n      \"properties\": {\n        \"dtype\": \"category\",\n        \"num_unique_values\": 110,\n        \"samples\": [\n          \"AMD Radeon R7\",\n          \"AMD Radeon Pro 555\",\n          \"Intel Iris Plus Graphics 650\"\n        ],\n        \"semantic_type\": \"\",\n        \"description\": \"\"\n      }\n    },\n    {\n      \"column\": \"OpSys\",\n      \"properties\": {\n        \"dtype\": \"category\",\n        \"num_unique_values\": 9,\n        \"samples\": [\n          \"Chrome OS\",\n          \"No OS\",\n          \"Android\"\n        ],\n        \"semantic_type\": \"\",\n        \"description\": \"\"\n      }\n    },\n    {\n      \"column\": \"Weight\",\n      \"properties\": {\n        \"dtype\": \"category\",\n        \"num_unique_values\": 179,\n        \"samples\": [\n          \"4.42kg\",\n          \"1.35kg\",\n          \"2.03kg\"\n        ],\n        \"semantic_type\": \"\",\n        \"description\": \"\"\n      }\n    },\n    {\n      \"column\": \"Price_IDR\",\n      \"properties\": {\n        \"dtype\": \"number\",\n        \"std\": 7243802.747415451,\n        \"min\": 1803155.04,\n        \"max\": 63203693.04,\n        \"num_unique_values\": 791,\n        \"samples\": [\n          13388944.32,\n          4031191.44,\n          18632602.08\n        ],\n        \"semantic_type\": \"\",\n        \"description\": \"\"\n      }\n    }\n  ]\n}"
            }
          },
          "metadata": {},
          "execution_count": 85
        }
      ]
    },
    {
      "cell_type": "code",
      "source": [
        "data.info()"
      ],
      "metadata": {
        "colab": {
          "base_uri": "https://localhost:8080/"
        },
        "id": "ky0_dvDMyyC0",
        "outputId": "83a14dd8-26f3-428c-9a28-0e881e49eb1b"
      },
      "execution_count": null,
      "outputs": [
        {
          "output_type": "stream",
          "name": "stdout",
          "text": [
            "<class 'pandas.core.frame.DataFrame'>\n",
            "Index: 1303 entries, 0 to 1302\n",
            "Data columns (total 11 columns):\n",
            " #   Column            Non-Null Count  Dtype  \n",
            "---  ------            --------------  -----  \n",
            " 0   Company           1303 non-null   object \n",
            " 1   TypeName          1303 non-null   object \n",
            " 2   Inches            1303 non-null   float64\n",
            " 3   ScreenResolution  1303 non-null   object \n",
            " 4   Cpu               1303 non-null   object \n",
            " 5   Ram               1303 non-null   object \n",
            " 6   Memory            1303 non-null   object \n",
            " 7   Gpu               1303 non-null   object \n",
            " 8   OpSys             1303 non-null   object \n",
            " 9   Weight            1303 non-null   object \n",
            " 10  Price_IDR         1303 non-null   float64\n",
            "dtypes: float64(2), object(9)\n",
            "memory usage: 122.2+ KB\n"
          ]
        }
      ]
    },
    {
      "cell_type": "markdown",
      "source": [
        "### **Data preprocessing**\n",
        "\n",
        "The first step is to check for null and duplicate values."
      ],
      "metadata": {
        "id": "PNg0p4ne-SUb"
      }
    },
    {
      "cell_type": "code",
      "source": [
        "data.isnull().sum()"
      ],
      "metadata": {
        "colab": {
          "base_uri": "https://localhost:8080/",
          "height": 429
        },
        "id": "Nd2Ebtrx8gWS",
        "outputId": "2422e148-6ff3-41da-fd35-49557c9ecff3"
      },
      "execution_count": null,
      "outputs": [
        {
          "output_type": "execute_result",
          "data": {
            "text/plain": [
              "Company             0\n",
              "TypeName            0\n",
              "Inches              0\n",
              "ScreenResolution    0\n",
              "Cpu                 0\n",
              "Ram                 0\n",
              "Memory              0\n",
              "Gpu                 0\n",
              "OpSys               0\n",
              "Weight              0\n",
              "Price_IDR           0\n",
              "dtype: int64"
            ],
            "text/html": [
              "<div>\n",
              "<style scoped>\n",
              "    .dataframe tbody tr th:only-of-type {\n",
              "        vertical-align: middle;\n",
              "    }\n",
              "\n",
              "    .dataframe tbody tr th {\n",
              "        vertical-align: top;\n",
              "    }\n",
              "\n",
              "    .dataframe thead th {\n",
              "        text-align: right;\n",
              "    }\n",
              "</style>\n",
              "<table border=\"1\" class=\"dataframe\">\n",
              "  <thead>\n",
              "    <tr style=\"text-align: right;\">\n",
              "      <th></th>\n",
              "      <th>0</th>\n",
              "    </tr>\n",
              "  </thead>\n",
              "  <tbody>\n",
              "    <tr>\n",
              "      <th>Company</th>\n",
              "      <td>0</td>\n",
              "    </tr>\n",
              "    <tr>\n",
              "      <th>TypeName</th>\n",
              "      <td>0</td>\n",
              "    </tr>\n",
              "    <tr>\n",
              "      <th>Inches</th>\n",
              "      <td>0</td>\n",
              "    </tr>\n",
              "    <tr>\n",
              "      <th>ScreenResolution</th>\n",
              "      <td>0</td>\n",
              "    </tr>\n",
              "    <tr>\n",
              "      <th>Cpu</th>\n",
              "      <td>0</td>\n",
              "    </tr>\n",
              "    <tr>\n",
              "      <th>Ram</th>\n",
              "      <td>0</td>\n",
              "    </tr>\n",
              "    <tr>\n",
              "      <th>Memory</th>\n",
              "      <td>0</td>\n",
              "    </tr>\n",
              "    <tr>\n",
              "      <th>Gpu</th>\n",
              "      <td>0</td>\n",
              "    </tr>\n",
              "    <tr>\n",
              "      <th>OpSys</th>\n",
              "      <td>0</td>\n",
              "    </tr>\n",
              "    <tr>\n",
              "      <th>Weight</th>\n",
              "      <td>0</td>\n",
              "    </tr>\n",
              "    <tr>\n",
              "      <th>Price_IDR</th>\n",
              "      <td>0</td>\n",
              "    </tr>\n",
              "  </tbody>\n",
              "</table>\n",
              "</div><br><label><b>dtype:</b> int64</label>"
            ]
          },
          "metadata": {},
          "execution_count": 45
        }
      ]
    },
    {
      "cell_type": "code",
      "source": [
        "data.duplicated().sum()"
      ],
      "metadata": {
        "colab": {
          "base_uri": "https://localhost:8080/"
        },
        "id": "aYfbjISd8dTT",
        "outputId": "ad55bc53-bbc0-4da1-db12-b93a64153a4b"
      },
      "execution_count": null,
      "outputs": [
        {
          "output_type": "execute_result",
          "data": {
            "text/plain": [
              "29"
            ]
          },
          "metadata": {},
          "execution_count": 46
        }
      ]
    },
    {
      "cell_type": "markdown",
      "source": [
        "There are no NULL values, but there are 29 duplicate rows. The next step removes the duplicate row."
      ],
      "metadata": {
        "id": "sQdu0O0h_xLZ"
      }
    },
    {
      "cell_type": "code",
      "source": [
        "data.drop_duplicates(inplace=True)"
      ],
      "metadata": {
        "id": "IZ37F3y__mky"
      },
      "execution_count": null,
      "outputs": []
    },
    {
      "cell_type": "markdown",
      "source": [
        "**RAM and Weights**\n",
        "\n",
        "In this section, we address the RAM and Weight columns in the dataset, which contain numeric values accompanied by units (e.g., GB for RAM and kg for Weight). The goal is to remove these units and convert the resulting values to numeric data types.\n",
        "\n",
        "The approach taken assumes consistency in the units across all entries in each column. If any entry had a different unit, the conversion process using `astype` would raise an error, ensuring data integrity."
      ],
      "metadata": {
        "id": "zjbTkKDPGkP2"
      }
    },
    {
      "cell_type": "code",
      "source": [
        "data['Ram'] = data['Ram'].str.replace('GB','').astype('int16')\n",
        "data['Weight'] = data['Weight'].str.replace('kg','').astype('float64')"
      ],
      "metadata": {
        "id": "n_y1EZZhHQOH"
      },
      "execution_count": null,
      "outputs": []
    },
    {
      "cell_type": "markdown",
      "source": [
        "**Screen Resolution**\n",
        "\n",
        "This next section evaluate the ScreenResolution column."
      ],
      "metadata": {
        "id": "L_95czkwvY25"
      }
    },
    {
      "cell_type": "code",
      "source": [
        "data['ScreenResolution'].unique()"
      ],
      "metadata": {
        "colab": {
          "base_uri": "https://localhost:8080/"
        },
        "id": "r7XaWT3Wu_jo",
        "outputId": "13d331de-0554-41d4-fdb1-e903d340b56a"
      },
      "execution_count": null,
      "outputs": [
        {
          "output_type": "execute_result",
          "data": {
            "text/plain": [
              "array(['IPS Panel Retina Display 2560x1600', '1440x900',\n",
              "       'Full HD 1920x1080', 'IPS Panel Retina Display 2880x1800',\n",
              "       '1366x768', 'IPS Panel Full HD 1920x1080',\n",
              "       'IPS Panel Retina Display 2304x1440',\n",
              "       'IPS Panel Full HD / Touchscreen 1920x1080',\n",
              "       'Full HD / Touchscreen 1920x1080',\n",
              "       'Touchscreen / Quad HD+ 3200x1800',\n",
              "       'IPS Panel Touchscreen 1920x1200', 'Touchscreen 2256x1504',\n",
              "       'Quad HD+ / Touchscreen 3200x1800', 'IPS Panel 1366x768',\n",
              "       'IPS Panel 4K Ultra HD / Touchscreen 3840x2160',\n",
              "       'IPS Panel Full HD 2160x1440',\n",
              "       '4K Ultra HD / Touchscreen 3840x2160', 'Touchscreen 2560x1440',\n",
              "       '1600x900', 'IPS Panel 4K Ultra HD 3840x2160',\n",
              "       '4K Ultra HD 3840x2160', 'Touchscreen 1366x768',\n",
              "       'IPS Panel Full HD 1366x768', 'IPS Panel 2560x1440',\n",
              "       'IPS Panel Full HD 2560x1440',\n",
              "       'IPS Panel Retina Display 2736x1824', 'Touchscreen 2400x1600',\n",
              "       '2560x1440', 'IPS Panel Quad HD+ 2560x1440',\n",
              "       'IPS Panel Quad HD+ 3200x1800',\n",
              "       'IPS Panel Quad HD+ / Touchscreen 3200x1800',\n",
              "       'IPS Panel Touchscreen 1366x768', '1920x1080',\n",
              "       'IPS Panel Full HD 1920x1200',\n",
              "       'IPS Panel Touchscreen / 4K Ultra HD 3840x2160',\n",
              "       'IPS Panel Touchscreen 2560x1440',\n",
              "       'Touchscreen / Full HD 1920x1080', 'Quad HD+ 3200x1800',\n",
              "       'Touchscreen / 4K Ultra HD 3840x2160',\n",
              "       'IPS Panel Touchscreen 2400x1600'], dtype=object)"
            ]
          },
          "metadata": {},
          "execution_count": 88
        }
      ]
    },
    {
      "cell_type": "markdown",
      "source": [
        "The `ScreenResolution` column contains multiple attributes related to the device's display, such as whether it is a touchscreen, the screen category (e.g., Full HD), and the x and y dimensions of the screen. To make these features more accessible for analysis, we perform the following steps:\n",
        "\n",
        "* Touchscreen Column: This column is derived from the presence of the word \"Touchscreen\" in the ScreenResolution column. A value of 1 indicates that the screen has touchscreen capabilities, while 0 indicates it does not.\n",
        "\n",
        "* The remaining details within the ScreenResolution column include the screen category (e.g., Full HD) and the screen dimensions (x and y). We split these into separate columns:\n",
        "  * Screen_name Column: This column captures the display type or resolution category (e.g., Full HD, Quad HD). Some entries may be None if no category is specified.\n",
        "  * x_dim Column: This column represents the horizontal pixel count (x-axis).\n",
        "  * y_dim Column: This column represents the vertical pixel count (y-axis).\n"
      ],
      "metadata": {
        "id": "0QqkEaluw2Ai"
      }
    },
    {
      "cell_type": "code",
      "source": [
        "def touchscreen(x):\n",
        "  if 'Touchscreen' in x:\n",
        "    return 1\n",
        "  else:\n",
        "    return 0\n",
        "\n",
        "data['Touch_screen'] = data['ScreenResolution'].apply(touchscreen)\n",
        "\n",
        "# removing Touchscreen and / in the ScreenResolution\n",
        "data['ScreenResolution'] = data['ScreenResolution'].str.replace('Touchscreen ','').str.replace('/ ','')"
      ],
      "metadata": {
        "id": "g9G2Mit7xnXr"
      },
      "execution_count": null,
      "outputs": []
    },
    {
      "cell_type": "code",
      "source": [
        "def modify_string(text):\n",
        "  left, y_dim = text.split('x')\n",
        "  screen = re.split(r\"(?<=[A-Za-z\\+])\\s(?=\\d{2,})\", left)\n",
        "  if len(screen) == 1:\n",
        "    screen_name = 'None'\n",
        "    x_dim = screen[0]\n",
        "  else:\n",
        "    screen_name = screen[0]\n",
        "    x_dim = screen[1]\n",
        "  return screen_name, x_dim, y_dim\n",
        "\n",
        "data['Temp'] = data['ScreenResolution'].apply(modify_string)\n",
        "data['Screen_name'] = data['Temp'].apply(lambda x: x[0])\n",
        "data['X_dim'] = data['Temp'].apply(lambda x: x[1]).astype('int')\n",
        "data['Y_dim'] = data['Temp'].apply(lambda x: x[2]).astype('int')\n",
        "data.drop(['ScreenResolution','Temp'], axis=1, inplace=True)"
      ],
      "metadata": {
        "id": "OXTN3r-44SRw"
      },
      "execution_count": null,
      "outputs": []
    },
    {
      "cell_type": "code",
      "source": [
        "data['Screen_name'].unique()"
      ],
      "metadata": {
        "colab": {
          "base_uri": "https://localhost:8080/"
        },
        "id": "LrTC2QbYhTqX",
        "outputId": "4bfa7795-a400-497c-ab3a-4cc7d4ba7205"
      },
      "execution_count": null,
      "outputs": [
        {
          "output_type": "execute_result",
          "data": {
            "text/plain": [
              "array(['IPS Panel Retina Display', 'None', 'Full HD', 'IPS Panel Full HD',\n",
              "       'Quad HD+', 'IPS Panel', 'IPS Panel 4K Ultra HD', '4K Ultra HD',\n",
              "       'IPS Panel Quad HD+'], dtype=object)"
            ]
          },
          "metadata": {},
          "execution_count": 52
        }
      ]
    },
    {
      "cell_type": "markdown",
      "source": [
        "We can further simplify and classify the screen categories into two general types: IPS (a screen technology) and HD (resolution categories like Ultra HD, HD+). We create two additional binary columns to indicate whether a screen belongs to these categories.\n"
      ],
      "metadata": {
        "id": "z-2o3WtFhlUs"
      }
    },
    {
      "cell_type": "code",
      "source": [
        "data['IPS'] = data['Screen_name'].apply(lambda x: 1 if 'IPS' in x else 0)\n",
        "data['HD'] = data['Screen_name'].apply(lambda x: 1 if 'HD' in x else 0)\n",
        "data.drop('Screen_name', axis=1, inplace=True)"
      ],
      "metadata": {
        "id": "XeQJ8dpEiCwW"
      },
      "execution_count": null,
      "outputs": []
    },
    {
      "cell_type": "markdown",
      "source": [
        "**CPU**\n",
        "\n",
        "The dataset contains over 100 distinct CPU types, which introduces significant complexity. However, this level of detail may be redundant for our model since prices among the same type of CPU typically do not vary substantially. To address this, we simplify and categorize the CPU types as follows:\n",
        "\n",
        "\n",
        "To begin simplifying the CPU categories, we extract the first three words from each CPU type description."
      ],
      "metadata": {
        "id": "z8Hlzo8PHADH"
      }
    },
    {
      "cell_type": "code",
      "source": [
        "data['Cpu'].unique()"
      ],
      "metadata": {
        "colab": {
          "base_uri": "https://localhost:8080/"
        },
        "id": "YA9B_HErVgJT",
        "outputId": "2caca408-ce3e-4a64-e3e6-721f9cc53ca1",
        "collapsed": true
      },
      "execution_count": null,
      "outputs": [
        {
          "output_type": "execute_result",
          "data": {
            "text/plain": [
              "array(['Intel Core i5 2.3GHz', 'Intel Core i5 1.8GHz',\n",
              "       'Intel Core i5 7200U 2.5GHz', 'Intel Core i7 2.7GHz',\n",
              "       'Intel Core i5 3.1GHz', 'AMD A9-Series 9420 3GHz',\n",
              "       'Intel Core i7 2.2GHz', 'Intel Core i7 8550U 1.8GHz',\n",
              "       'Intel Core i5 8250U 1.6GHz', 'Intel Core i3 6006U 2GHz',\n",
              "       'Intel Core i7 2.8GHz', 'Intel Core M m3 1.2GHz',\n",
              "       'Intel Core i7 7500U 2.7GHz', 'Intel Core i7 2.9GHz',\n",
              "       'Intel Core i3 7100U 2.4GHz', 'Intel Atom x5-Z8350 1.44GHz',\n",
              "       'Intel Core i5 7300HQ 2.5GHz', 'AMD E-Series E2-9000e 1.5GHz',\n",
              "       'Intel Core i5 1.6GHz', 'Intel Core i7 8650U 1.9GHz',\n",
              "       'Intel Atom x5-Z8300 1.44GHz', 'AMD E-Series E2-6110 1.5GHz',\n",
              "       'AMD A6-Series 9220 2.5GHz',\n",
              "       'Intel Celeron Dual Core N3350 1.1GHz',\n",
              "       'Intel Core i3 7130U 2.7GHz', 'Intel Core i7 7700HQ 2.8GHz',\n",
              "       'Intel Core i5 2.0GHz', 'AMD Ryzen 1700 3GHz',\n",
              "       'Intel Pentium Quad Core N4200 1.1GHz',\n",
              "       'Intel Atom x5-Z8550 1.44GHz',\n",
              "       'Intel Celeron Dual Core N3060 1.6GHz', 'Intel Core i5 1.3GHz',\n",
              "       'AMD FX 9830P 3GHz', 'Intel Core i7 7560U 2.4GHz',\n",
              "       'AMD E-Series 6110 1.5GHz', 'Intel Core i5 6200U 2.3GHz',\n",
              "       'Intel Core M 6Y75 1.2GHz', 'Intel Core i5 7500U 2.7GHz',\n",
              "       'Intel Core i3 6006U 2.2GHz', 'AMD A6-Series 9220 2.9GHz',\n",
              "       'Intel Core i7 6920HQ 2.9GHz', 'Intel Core i5 7Y54 1.2GHz',\n",
              "       'Intel Core i7 7820HK 2.9GHz', 'Intel Xeon E3-1505M V6 3GHz',\n",
              "       'Intel Core i7 6500U 2.5GHz', 'AMD E-Series 9000e 1.5GHz',\n",
              "       'AMD A10-Series A10-9620P 2.5GHz', 'AMD A6-Series A6-9220 2.5GHz',\n",
              "       'Intel Core i5 2.9GHz', 'Intel Core i7 6600U 2.6GHz',\n",
              "       'Intel Core i3 6006U 2.0GHz',\n",
              "       'Intel Celeron Dual Core 3205U 1.5GHz',\n",
              "       'Intel Core i7 7820HQ 2.9GHz', 'AMD A10-Series 9600P 2.4GHz',\n",
              "       'Intel Core i7 7600U 2.8GHz', 'AMD A8-Series 7410 2.2GHz',\n",
              "       'Intel Celeron Dual Core 3855U 1.6GHz',\n",
              "       'Intel Pentium Quad Core N3710 1.6GHz',\n",
              "       'AMD A12-Series 9720P 2.7GHz', 'Intel Core i5 7300U 2.6GHz',\n",
              "       'AMD A12-Series 9720P 3.6GHz',\n",
              "       'Intel Celeron Quad Core N3450 1.1GHz',\n",
              "       'Intel Celeron Dual Core N3060 1.60GHz',\n",
              "       'Intel Core i5 6440HQ 2.6GHz', 'Intel Core i7 6820HQ 2.7GHz',\n",
              "       'AMD Ryzen 1600 3.2GHz', 'Intel Core i7 7Y75 1.3GHz',\n",
              "       'Intel Core i5 7440HQ 2.8GHz', 'Intel Core i7 7660U 2.5GHz',\n",
              "       'Intel Core i7 7700HQ 2.7GHz', 'Intel Core M m3-7Y30 2.2GHz',\n",
              "       'Intel Core i5 7Y57 1.2GHz', 'Intel Core i7 6700HQ 2.6GHz',\n",
              "       'Intel Core i3 6100U 2.3GHz', 'AMD A10-Series 9620P 2.5GHz',\n",
              "       'AMD E-Series 7110 1.8GHz', 'Intel Celeron Dual Core N3350 2.0GHz',\n",
              "       'AMD A9-Series A9-9420 3GHz', 'Intel Core i7 6820HK 2.7GHz',\n",
              "       'Intel Core M 7Y30 1.0GHz', 'Intel Xeon E3-1535M v6 3.1GHz',\n",
              "       'Intel Celeron Quad Core N3160 1.6GHz',\n",
              "       'Intel Core i5 6300U 2.4GHz', 'Intel Core i3 6100U 2.1GHz',\n",
              "       'AMD E-Series E2-9000 2.2GHz',\n",
              "       'Intel Celeron Dual Core N3050 1.6GHz',\n",
              "       'Intel Core M M3-6Y30 0.9GHz', 'AMD A9-Series 9420 2.9GHz',\n",
              "       'Intel Core i5 6300HQ 2.3GHz', 'AMD A6-Series 7310 2GHz',\n",
              "       'Intel Atom Z8350 1.92GHz', 'Intel Xeon E3-1535M v5 2.9GHz',\n",
              "       'Intel Core i5 6260U 1.8GHz',\n",
              "       'Intel Pentium Dual Core N4200 1.1GHz',\n",
              "       'Intel Celeron Quad Core N3710 1.6GHz', 'Intel Core M 1.2GHz',\n",
              "       'AMD A12-Series 9700P 2.5GHz', 'Intel Core i7 7500U 2.5GHz',\n",
              "       'Intel Pentium Dual Core 4405U 2.1GHz',\n",
              "       'AMD A4-Series 7210 2.2GHz', 'Intel Core i7 6560U 2.2GHz',\n",
              "       'Intel Core M m7-6Y75 1.2GHz', 'AMD FX 8800P 2.1GHz',\n",
              "       'Intel Core M M7-6Y75 1.2GHz', 'Intel Core i5 7200U 2.50GHz',\n",
              "       'Intel Core i5 7200U 2.70GHz', 'Intel Atom X5-Z8350 1.44GHz',\n",
              "       'Intel Core i5 7200U 2.7GHz', 'Intel Core M 1.1GHz',\n",
              "       'Intel Pentium Dual Core 4405Y 1.5GHz',\n",
              "       'Intel Pentium Quad Core N3700 1.6GHz', 'Intel Core M 6Y54 1.1GHz',\n",
              "       'Intel Core i7 6500U 2.50GHz',\n",
              "       'Intel Celeron Dual Core N3350 2GHz',\n",
              "       'Samsung Cortex A72&A53 2.0GHz', 'AMD E-Series 9000 2.2GHz',\n",
              "       'Intel Core M 6Y30 0.9GHz', 'AMD A9-Series 9410 2.9GHz'],\n",
              "      dtype=object)"
            ]
          },
          "metadata": {},
          "execution_count": 54
        }
      ]
    },
    {
      "cell_type": "code",
      "source": [
        "def cpu_name(input):\n",
        "  cpu = ' '.join(input.split()[:3])\n",
        "  return cpu\n",
        "\n",
        "data['Cpu'] = data['Cpu'].apply(cpu_name)"
      ],
      "metadata": {
        "id": "4NABwH9WVgnk"
      },
      "execution_count": null,
      "outputs": []
    },
    {
      "cell_type": "code",
      "source": [
        "data['Cpu'].unique()"
      ],
      "metadata": {
        "colab": {
          "base_uri": "https://localhost:8080/"
        },
        "id": "hjlODo1AXkS3",
        "outputId": "8512ea0c-6cfa-4998-e0e4-b7e81a284cc9"
      },
      "execution_count": null,
      "outputs": [
        {
          "output_type": "execute_result",
          "data": {
            "text/plain": [
              "array(['Intel Core i5', 'Intel Core i7', 'AMD A9-Series 9420',\n",
              "       'Intel Core i3', 'Intel Core M', 'Intel Atom x5-Z8350',\n",
              "       'AMD E-Series E2-9000e', 'Intel Atom x5-Z8300',\n",
              "       'AMD E-Series E2-6110', 'AMD A6-Series 9220', 'Intel Celeron Dual',\n",
              "       'AMD Ryzen 1700', 'Intel Pentium Quad', 'Intel Atom x5-Z8550',\n",
              "       'AMD FX 9830P', 'AMD E-Series 6110', 'Intel Xeon E3-1505M',\n",
              "       'AMD E-Series 9000e', 'AMD A10-Series A10-9620P',\n",
              "       'AMD A6-Series A6-9220', 'AMD A10-Series 9600P',\n",
              "       'AMD A8-Series 7410', 'AMD A12-Series 9720P', 'Intel Celeron Quad',\n",
              "       'AMD Ryzen 1600', 'AMD A10-Series 9620P', 'AMD E-Series 7110',\n",
              "       'AMD A9-Series A9-9420', 'Intel Xeon E3-1535M',\n",
              "       'AMD E-Series E2-9000', 'AMD A6-Series 7310', 'Intel Atom Z8350',\n",
              "       'Intel Pentium Dual', 'AMD A12-Series 9700P', 'AMD A4-Series 7210',\n",
              "       'AMD FX 8800P', 'Intel Atom X5-Z8350', 'Samsung Cortex A72&A53',\n",
              "       'AMD E-Series 9000', 'AMD A9-Series 9410'], dtype=object)"
            ]
          },
          "metadata": {},
          "execution_count": 93
        }
      ]
    },
    {
      "cell_type": "markdown",
      "source": [
        "After extracting the initial words, we observe that there are still numerous CPU types. To further simplify, we categorize them based on the following rules:\n",
        "\n",
        "* Intel Core Series: For CPUs labeled as Intel Core (e.g., Intel Core i5, Intel Core i7), we retain the full three-word description, as the differences between models like i5 and i7 are significant.\n",
        "* Other Intel CPUs: For Intel CPUs that are not part of the Core series (e.g., Intel Pentium, Intel Celeron), we simplify by keeping only the first two words.\n",
        "* Other CPU Series (e.g., AMD E-Series): Similarly, for CPUs from other manufacturers (e.g., AMD E-Series), we retain only the first two words.\n"
      ],
      "metadata": {
        "id": "826nHiIjY5Jj"
      }
    },
    {
      "cell_type": "code",
      "source": [
        "def cpu_name2(input):\n",
        "  if 'Intel' in input:\n",
        "    if 'Core' not in input:\n",
        "      new_name = ' '.join(input.split()[:2])\n",
        "    else:\n",
        "      new_name = input\n",
        "  else:\n",
        "    new_name = ' '.join(input.split()[:2])\n",
        "  return new_name"
      ],
      "metadata": {
        "id": "lHkW4GljZczz"
      },
      "execution_count": null,
      "outputs": []
    },
    {
      "cell_type": "code",
      "source": [
        "data['Cpu'] = data['Cpu'].apply(cpu_name2)\n",
        "data['Cpu'].unique()"
      ],
      "metadata": {
        "colab": {
          "base_uri": "https://localhost:8080/"
        },
        "id": "hPbkbBjrZx_E",
        "outputId": "d922e922-5e48-417e-bba5-9a40adf574d0"
      },
      "execution_count": null,
      "outputs": [
        {
          "output_type": "execute_result",
          "data": {
            "text/plain": [
              "array(['Intel Core i5', 'Intel Core i7', 'AMD A9-Series', 'Intel Core i3',\n",
              "       'Intel Core M', 'Intel Atom', 'AMD E-Series', 'AMD A6-Series',\n",
              "       'Intel Celeron', 'AMD Ryzen', 'Intel Pentium', 'AMD FX',\n",
              "       'Intel Xeon', 'AMD A10-Series', 'AMD A8-Series', 'AMD A12-Series',\n",
              "       'AMD A4-Series', 'Samsung Cortex'], dtype=object)"
            ]
          },
          "metadata": {},
          "execution_count": 95
        }
      ]
    },
    {
      "cell_type": "markdown",
      "source": [
        "The resulting CPU column reduces the complexity of the original CPU type while retaining the essential distinctions that may impact pricing and performance"
      ],
      "metadata": {
        "id": "h4Jd2j6wbKHQ"
      }
    },
    {
      "cell_type": "markdown",
      "source": [
        "**GPU**\n",
        "\n",
        "Similar to the CPU column, the GPU column contains numerous unique values, adding complexity to the dataset. To streamline this, we apply a similar simplification strategy as used for the CPU types. We extract the first two words from each GPU type description. This approach helps to reduce the number of unique GPU entries while retaining the essential details.\n"
      ],
      "metadata": {
        "id": "0S2I-2K-HAh2"
      }
    },
    {
      "cell_type": "code",
      "source": [
        "data['Gpu'].unique()"
      ],
      "metadata": {
        "colab": {
          "base_uri": "https://localhost:8080/"
        },
        "id": "sXPcZmClgXYd",
        "outputId": "0daf444b-8983-47da-cf73-eb655accad06"
      },
      "execution_count": null,
      "outputs": [
        {
          "output_type": "execute_result",
          "data": {
            "text/plain": [
              "array(['Intel Iris Plus Graphics 640', 'Intel HD Graphics 6000',\n",
              "       'Intel HD Graphics 620', 'AMD Radeon Pro 455',\n",
              "       'Intel Iris Plus Graphics 650', 'AMD Radeon R5',\n",
              "       'Intel Iris Pro Graphics', 'Nvidia GeForce MX150',\n",
              "       'Intel UHD Graphics 620', 'Intel HD Graphics 520',\n",
              "       'AMD Radeon Pro 555', 'AMD Radeon R5 M430',\n",
              "       'Intel HD Graphics 615', 'AMD Radeon Pro 560',\n",
              "       'Nvidia GeForce 940MX', 'Intel HD Graphics 400',\n",
              "       'Nvidia GeForce GTX 1050', 'AMD Radeon R2', 'AMD Radeon 530',\n",
              "       'Nvidia GeForce 930MX', 'Intel HD Graphics',\n",
              "       'Intel HD Graphics 500', 'Nvidia GeForce 930MX ',\n",
              "       'Nvidia GeForce GTX 1060', 'Nvidia GeForce 150MX',\n",
              "       'Intel Iris Graphics 540', 'AMD Radeon RX 580',\n",
              "       'Nvidia GeForce 920MX', 'AMD Radeon R4 Graphics', 'AMD Radeon 520',\n",
              "       'Nvidia GeForce GTX 1070', 'Nvidia GeForce GTX 1050 Ti',\n",
              "       'Nvidia GeForce MX130', 'AMD R4 Graphics',\n",
              "       'Nvidia GeForce GTX 940MX', 'AMD Radeon RX 560',\n",
              "       'Nvidia GeForce 920M', 'AMD Radeon R7 M445', 'AMD Radeon RX 550',\n",
              "       'Nvidia GeForce GTX 1050M', 'Intel HD Graphics 515',\n",
              "       'AMD Radeon R5 M420', 'Intel HD Graphics 505',\n",
              "       'Nvidia GTX 980 SLI', 'AMD R17M-M1-70', 'Nvidia GeForce GTX 1080',\n",
              "       'Nvidia Quadro M1200', 'Nvidia GeForce 920MX ',\n",
              "       'Nvidia GeForce GTX 950M', 'AMD FirePro W4190M ',\n",
              "       'Nvidia GeForce GTX 980M', 'Intel Iris Graphics 550',\n",
              "       'Nvidia GeForce 930M', 'Intel HD Graphics 630',\n",
              "       'AMD Radeon R5 430', 'Nvidia GeForce GTX 940M',\n",
              "       'Intel HD Graphics 510', 'Intel HD Graphics 405',\n",
              "       'AMD Radeon RX 540', 'Nvidia GeForce GT 940MX',\n",
              "       'AMD FirePro W5130M', 'Nvidia Quadro M2200M', 'AMD Radeon R4',\n",
              "       'Nvidia Quadro M620', 'AMD Radeon R7 M460',\n",
              "       'Intel HD Graphics 530', 'Nvidia GeForce GTX 965M',\n",
              "       'Nvidia GeForce GTX1080', 'Nvidia GeForce GTX1050 Ti',\n",
              "       'Nvidia GeForce GTX 960M', 'AMD Radeon R2 Graphics',\n",
              "       'Nvidia Quadro M620M', 'Nvidia GeForce GTX 970M',\n",
              "       'Nvidia GeForce GTX 960<U+039C>', 'Intel Graphics 620',\n",
              "       'Nvidia GeForce GTX 960', 'AMD Radeon R5 520',\n",
              "       'AMD Radeon R7 M440', 'AMD Radeon R7', 'Nvidia Quadro M520M',\n",
              "       'Nvidia Quadro M2200', 'Nvidia Quadro M2000M',\n",
              "       'Intel HD Graphics 540', 'Nvidia Quadro M1000M', 'AMD Radeon 540',\n",
              "       'Nvidia GeForce GTX 1070M', 'Nvidia GeForce GTX1060',\n",
              "       'Intel HD Graphics 5300', 'AMD Radeon R5 M420X',\n",
              "       'AMD Radeon R7 Graphics', 'Nvidia GeForce 920',\n",
              "       'Nvidia GeForce 940M', 'Nvidia GeForce GTX 930MX',\n",
              "       'AMD Radeon R7 M465', 'AMD Radeon R3', 'Nvidia GeForce GTX 1050Ti',\n",
              "       'AMD Radeon R7 M365X', 'AMD Radeon R9 M385',\n",
              "       'Intel HD Graphics 620 ', 'Nvidia Quadro 3000M',\n",
              "       'Nvidia GeForce GTX 980 ', 'AMD Radeon R5 M330',\n",
              "       'AMD FirePro W4190M', 'AMD FirePro W6150M', 'AMD Radeon R5 M315',\n",
              "       'Nvidia Quadro M500M', 'AMD Radeon R7 M360',\n",
              "       'Nvidia Quadro M3000M', 'Nvidia GeForce 960M', 'ARM Mali T860 MP4'],\n",
              "      dtype=object)"
            ]
          },
          "metadata": {},
          "execution_count": 96
        }
      ]
    },
    {
      "cell_type": "code",
      "source": [
        "def gpu_name(input):\n",
        "  gpu = ' '.join(input.split()[:2])\n",
        "  return gpu\n",
        "\n",
        "data['Gpu'] = data['Gpu'].apply(gpu_name)"
      ],
      "metadata": {
        "id": "Y364nHeRgXaj"
      },
      "execution_count": null,
      "outputs": []
    },
    {
      "cell_type": "markdown",
      "source": [
        "**Memory**\n",
        "\n",
        "The Memory column in the dataset contains information about the types and sizes of storage available in each laptop, with possible storage types including SSD, HDD, Flash Storage, and Hybrid. To standardize and structure this information for analysis, we perform the following steps:\n",
        "\n",
        "1. Standardizing Memory Units\n",
        "\n",
        "  First, we ensure that all memory sizes are represented in gigabytes (GB). This involves:\n",
        "  - Removing any `.0` from memory sizes.\n",
        "  - Converting terabytes (TB) to gigabytes (GB) by multiplying the value by 1000.\n",
        "  - Removing any remaining `GB` suffixes.\n",
        "\n",
        "2. Creating a Memory Array\n",
        "  \n",
        "  Next, we create a function memory_array that parses the cleaned memory string and stores the sizes in a list corresponding to different memory types:\n",
        "  * The first position indicates the size of SSD.\n",
        "  * The second position indicates the size of HDD.\n",
        "  * The third position indicates the size of Flash Storage.\n",
        "  * The fourth position indicates the size of Hybrid storage.\n",
        "\n",
        "3. Converting Memory Array to Separate Columns\n",
        "  We then convert the memory_array into independent columns for each storage type. If the value is not 0, it indicates the size of the respective memory type."
      ],
      "metadata": {
        "id": "IWiAy-EcbhsE"
      }
    },
    {
      "cell_type": "code",
      "source": [
        "data['Memory'].unique()"
      ],
      "metadata": {
        "colab": {
          "base_uri": "https://localhost:8080/"
        },
        "id": "PrCE4VmFimgK",
        "outputId": "782fa27c-2693-4a09-94a2-2b3f66c1be33"
      },
      "execution_count": null,
      "outputs": [
        {
          "output_type": "execute_result",
          "data": {
            "text/plain": [
              "array(['128GB SSD', '128GB Flash Storage', '256GB SSD', '512GB SSD',\n",
              "       '500GB HDD', '256GB Flash Storage', '1TB HDD',\n",
              "       '32GB Flash Storage', '128GB SSD +  1TB HDD',\n",
              "       '256GB SSD +  256GB SSD', '64GB Flash Storage',\n",
              "       '256GB SSD +  1TB HDD', '256GB SSD +  2TB HDD', '32GB SSD',\n",
              "       '2TB HDD', '64GB SSD', '1.0TB Hybrid', '512GB SSD +  1TB HDD',\n",
              "       '1TB SSD', '256GB SSD +  500GB HDD', '128GB SSD +  2TB HDD',\n",
              "       '512GB SSD +  512GB SSD', '16GB SSD', '16GB Flash Storage',\n",
              "       '512GB SSD +  256GB SSD', '512GB SSD +  2TB HDD',\n",
              "       '64GB Flash Storage +  1TB HDD', '180GB SSD', '1TB HDD +  1TB HDD',\n",
              "       '32GB HDD', '1TB SSD +  1TB HDD', '512GB Flash Storage',\n",
              "       '128GB HDD', '240GB SSD', '8GB SSD', '508GB Hybrid', '1.0TB HDD',\n",
              "       '512GB SSD +  1.0TB Hybrid', '256GB SSD +  1.0TB Hybrid'],\n",
              "      dtype=object)"
            ]
          },
          "metadata": {},
          "execution_count": 61
        }
      ]
    },
    {
      "cell_type": "code",
      "source": [
        "data['Memory'] = data['Memory'].str.replace('.0', '')\n",
        "data['Memory'] = data['Memory'].str.replace('GB', '')\n",
        "data['Memory'] = data['Memory'].str.replace('TB', '000')"
      ],
      "metadata": {
        "id": "DW7A3-3TpHIv"
      },
      "execution_count": null,
      "outputs": []
    },
    {
      "cell_type": "code",
      "source": [
        "def memory_array(input):\n",
        "  arr = np.array([0,0,0,0])\n",
        "  s = re.split(r'\\s+\\+\\s+' , input)\n",
        "\n",
        "  if len(s) == 1:\n",
        "    val = re.split(r'(?<=\\d)\\s(?=[A-Z])', s[0])[0]\n",
        "    if 'SSD' in input:\n",
        "      arr[0] = val\n",
        "    elif 'HDD' in input:\n",
        "      arr[1] = val\n",
        "    elif 'Flash Storage' in input:\n",
        "      arr[2] = val\n",
        "    elif 'Hybrid' in input:\n",
        "      arr[3] = val\n",
        "\n",
        "  elif len(s) == 2:\n",
        "    val1 = re.split(r'(?<=\\d)\\s(?=[A-Z])', s[0])[0]\n",
        "    val2 = re.split(r'(?<=\\d)\\s(?=[A-Z])', s[1])[0]\n",
        "    if 'SSD' in s[0]:\n",
        "      arr[0] = val1\n",
        "    elif 'HDD' in s[0]:\n",
        "      arr[1] = val1\n",
        "    elif 'Flash Storage' in s[0]:\n",
        "      arr[2] = val1\n",
        "    elif 'Hybrid' in s[0]:\n",
        "      arr[3] = val1\n",
        "    if 'SSD' in s[1]:\n",
        "      arr[0] = val2\n",
        "    elif 'HDD' in s[1]:\n",
        "      arr[1] = val2\n",
        "    elif 'Flash Storage' in s[1]:\n",
        "      arr[2] = val2\n",
        "    elif 'Hybrid' in s[1]:\n",
        "      arr[3] = val2\n",
        "\n",
        "  return arr"
      ],
      "metadata": {
        "id": "fqz8fyvBjgys"
      },
      "execution_count": null,
      "outputs": []
    },
    {
      "cell_type": "markdown",
      "source": [
        "While the function may not be the most efficient, it performs adequately given the relatively small number of distinct data points (four types of memory). For larger datasets or more complex scenarios, optimizations might be considered. However, for the current dataset, this approach provides satisfactory performance and clarity."
      ],
      "metadata": {
        "id": "aBft3E8wtEda"
      }
    },
    {
      "cell_type": "code",
      "source": [
        "data['Temp'] = data['Memory'].apply(memory_array)"
      ],
      "metadata": {
        "id": "Ygq7zXiwssa3"
      },
      "execution_count": null,
      "outputs": []
    },
    {
      "cell_type": "code",
      "source": [
        "data['SSD'] = data['Temp'].apply(lambda x: x[0]).astype('int')\n",
        "data['HDD'] = data['Temp'].apply(lambda x: x[1]).astype('int')\n",
        "data['Flash'] = data['Temp'].apply(lambda x: x[2]).astype('int')\n",
        "data['Hybrid'] = data['Temp'].apply(lambda x: x[3]).astype('int')\n",
        "data.drop(['Memory','Temp'], axis=1, inplace=True)"
      ],
      "metadata": {
        "id": "M_XaQ_GGswMc"
      },
      "execution_count": null,
      "outputs": []
    },
    {
      "cell_type": "markdown",
      "source": [
        "We can find the final data after processing below."
      ],
      "metadata": {
        "id": "dkxlf4_tif3x"
      }
    },
    {
      "cell_type": "code",
      "source": [
        "data.head()"
      ],
      "metadata": {
        "colab": {
          "base_uri": "https://localhost:8080/",
          "height": 206
        },
        "id": "Hd9WOpxds8Pf",
        "outputId": "a51596a3-bb33-46a7-f157-08112bfd4055"
      },
      "execution_count": null,
      "outputs": [
        {
          "output_type": "execute_result",
          "data": {
            "text/plain": [
              "  Company   TypeName  Inches            Cpu  Ram         Gpu  OpSys  Weight  \\\n",
              "0   Apple  Ultrabook    13.3  Intel Core i5    8  Intel Iris  macOS    1.37   \n",
              "1   Apple  Ultrabook    13.3  Intel Core i5    8    Intel HD  macOS    1.34   \n",
              "2      HP   Notebook    15.6  Intel Core i5    8    Intel HD  No OS    1.86   \n",
              "3   Apple  Ultrabook    15.4  Intel Core i7   16  AMD Radeon  macOS    1.83   \n",
              "4   Apple  Ultrabook    13.3  Intel Core i5    8  Intel Iris  macOS    1.37   \n",
              "\n",
              "      Price_IDR  Touch_screen  X_dim  Y_dim  IPS  HD  SSD  HDD  Flash  Hybrid  \n",
              "0  1.388315e+07             0   2560   1600    1   0  128    0      0       0  \n",
              "1  9.315679e+06             0   1440    900    0   0    0    0    128       0  \n",
              "2  5.958702e+06             0   1920   1080    0   1  256    0      0       0  \n",
              "3  2.629549e+07             0   2880   1800    1   0  512    0      0       0  \n",
              "4  1.869063e+07             0   2560   1600    1   0  256    0      0       0  "
            ],
            "text/html": [
              "\n",
              "  <div id=\"df-37d870b2-e53c-4287-8f2e-bc636dff9658\" class=\"colab-df-container\">\n",
              "    <div>\n",
              "<style scoped>\n",
              "    .dataframe tbody tr th:only-of-type {\n",
              "        vertical-align: middle;\n",
              "    }\n",
              "\n",
              "    .dataframe tbody tr th {\n",
              "        vertical-align: top;\n",
              "    }\n",
              "\n",
              "    .dataframe thead th {\n",
              "        text-align: right;\n",
              "    }\n",
              "</style>\n",
              "<table border=\"1\" class=\"dataframe\">\n",
              "  <thead>\n",
              "    <tr style=\"text-align: right;\">\n",
              "      <th></th>\n",
              "      <th>Company</th>\n",
              "      <th>TypeName</th>\n",
              "      <th>Inches</th>\n",
              "      <th>Cpu</th>\n",
              "      <th>Ram</th>\n",
              "      <th>Gpu</th>\n",
              "      <th>OpSys</th>\n",
              "      <th>Weight</th>\n",
              "      <th>Price_IDR</th>\n",
              "      <th>Touch_screen</th>\n",
              "      <th>X_dim</th>\n",
              "      <th>Y_dim</th>\n",
              "      <th>IPS</th>\n",
              "      <th>HD</th>\n",
              "      <th>SSD</th>\n",
              "      <th>HDD</th>\n",
              "      <th>Flash</th>\n",
              "      <th>Hybrid</th>\n",
              "    </tr>\n",
              "  </thead>\n",
              "  <tbody>\n",
              "    <tr>\n",
              "      <th>0</th>\n",
              "      <td>Apple</td>\n",
              "      <td>Ultrabook</td>\n",
              "      <td>13.3</td>\n",
              "      <td>Intel Core i5</td>\n",
              "      <td>8</td>\n",
              "      <td>Intel Iris</td>\n",
              "      <td>macOS</td>\n",
              "      <td>1.37</td>\n",
              "      <td>1.388315e+07</td>\n",
              "      <td>0</td>\n",
              "      <td>2560</td>\n",
              "      <td>1600</td>\n",
              "      <td>1</td>\n",
              "      <td>0</td>\n",
              "      <td>128</td>\n",
              "      <td>0</td>\n",
              "      <td>0</td>\n",
              "      <td>0</td>\n",
              "    </tr>\n",
              "    <tr>\n",
              "      <th>1</th>\n",
              "      <td>Apple</td>\n",
              "      <td>Ultrabook</td>\n",
              "      <td>13.3</td>\n",
              "      <td>Intel Core i5</td>\n",
              "      <td>8</td>\n",
              "      <td>Intel HD</td>\n",
              "      <td>macOS</td>\n",
              "      <td>1.34</td>\n",
              "      <td>9.315679e+06</td>\n",
              "      <td>0</td>\n",
              "      <td>1440</td>\n",
              "      <td>900</td>\n",
              "      <td>0</td>\n",
              "      <td>0</td>\n",
              "      <td>0</td>\n",
              "      <td>0</td>\n",
              "      <td>128</td>\n",
              "      <td>0</td>\n",
              "    </tr>\n",
              "    <tr>\n",
              "      <th>2</th>\n",
              "      <td>HP</td>\n",
              "      <td>Notebook</td>\n",
              "      <td>15.6</td>\n",
              "      <td>Intel Core i5</td>\n",
              "      <td>8</td>\n",
              "      <td>Intel HD</td>\n",
              "      <td>No OS</td>\n",
              "      <td>1.86</td>\n",
              "      <td>5.958702e+06</td>\n",
              "      <td>0</td>\n",
              "      <td>1920</td>\n",
              "      <td>1080</td>\n",
              "      <td>0</td>\n",
              "      <td>1</td>\n",
              "      <td>256</td>\n",
              "      <td>0</td>\n",
              "      <td>0</td>\n",
              "      <td>0</td>\n",
              "    </tr>\n",
              "    <tr>\n",
              "      <th>3</th>\n",
              "      <td>Apple</td>\n",
              "      <td>Ultrabook</td>\n",
              "      <td>15.4</td>\n",
              "      <td>Intel Core i7</td>\n",
              "      <td>16</td>\n",
              "      <td>AMD Radeon</td>\n",
              "      <td>macOS</td>\n",
              "      <td>1.83</td>\n",
              "      <td>2.629549e+07</td>\n",
              "      <td>0</td>\n",
              "      <td>2880</td>\n",
              "      <td>1800</td>\n",
              "      <td>1</td>\n",
              "      <td>0</td>\n",
              "      <td>512</td>\n",
              "      <td>0</td>\n",
              "      <td>0</td>\n",
              "      <td>0</td>\n",
              "    </tr>\n",
              "    <tr>\n",
              "      <th>4</th>\n",
              "      <td>Apple</td>\n",
              "      <td>Ultrabook</td>\n",
              "      <td>13.3</td>\n",
              "      <td>Intel Core i5</td>\n",
              "      <td>8</td>\n",
              "      <td>Intel Iris</td>\n",
              "      <td>macOS</td>\n",
              "      <td>1.37</td>\n",
              "      <td>1.869063e+07</td>\n",
              "      <td>0</td>\n",
              "      <td>2560</td>\n",
              "      <td>1600</td>\n",
              "      <td>1</td>\n",
              "      <td>0</td>\n",
              "      <td>256</td>\n",
              "      <td>0</td>\n",
              "      <td>0</td>\n",
              "      <td>0</td>\n",
              "    </tr>\n",
              "  </tbody>\n",
              "</table>\n",
              "</div>\n",
              "    <div class=\"colab-df-buttons\">\n",
              "\n",
              "  <div class=\"colab-df-container\">\n",
              "    <button class=\"colab-df-convert\" onclick=\"convertToInteractive('df-37d870b2-e53c-4287-8f2e-bc636dff9658')\"\n",
              "            title=\"Convert this dataframe to an interactive table.\"\n",
              "            style=\"display:none;\">\n",
              "\n",
              "  <svg xmlns=\"http://www.w3.org/2000/svg\" height=\"24px\" viewBox=\"0 -960 960 960\">\n",
              "    <path d=\"M120-120v-720h720v720H120Zm60-500h600v-160H180v160Zm220 220h160v-160H400v160Zm0 220h160v-160H400v160ZM180-400h160v-160H180v160Zm440 0h160v-160H620v160ZM180-180h160v-160H180v160Zm440 0h160v-160H620v160Z\"/>\n",
              "  </svg>\n",
              "    </button>\n",
              "\n",
              "  <style>\n",
              "    .colab-df-container {\n",
              "      display:flex;\n",
              "      gap: 12px;\n",
              "    }\n",
              "\n",
              "    .colab-df-convert {\n",
              "      background-color: #E8F0FE;\n",
              "      border: none;\n",
              "      border-radius: 50%;\n",
              "      cursor: pointer;\n",
              "      display: none;\n",
              "      fill: #1967D2;\n",
              "      height: 32px;\n",
              "      padding: 0 0 0 0;\n",
              "      width: 32px;\n",
              "    }\n",
              "\n",
              "    .colab-df-convert:hover {\n",
              "      background-color: #E2EBFA;\n",
              "      box-shadow: 0px 1px 2px rgba(60, 64, 67, 0.3), 0px 1px 3px 1px rgba(60, 64, 67, 0.15);\n",
              "      fill: #174EA6;\n",
              "    }\n",
              "\n",
              "    .colab-df-buttons div {\n",
              "      margin-bottom: 4px;\n",
              "    }\n",
              "\n",
              "    [theme=dark] .colab-df-convert {\n",
              "      background-color: #3B4455;\n",
              "      fill: #D2E3FC;\n",
              "    }\n",
              "\n",
              "    [theme=dark] .colab-df-convert:hover {\n",
              "      background-color: #434B5C;\n",
              "      box-shadow: 0px 1px 3px 1px rgba(0, 0, 0, 0.15);\n",
              "      filter: drop-shadow(0px 1px 2px rgba(0, 0, 0, 0.3));\n",
              "      fill: #FFFFFF;\n",
              "    }\n",
              "  </style>\n",
              "\n",
              "    <script>\n",
              "      const buttonEl =\n",
              "        document.querySelector('#df-37d870b2-e53c-4287-8f2e-bc636dff9658 button.colab-df-convert');\n",
              "      buttonEl.style.display =\n",
              "        google.colab.kernel.accessAllowed ? 'block' : 'none';\n",
              "\n",
              "      async function convertToInteractive(key) {\n",
              "        const element = document.querySelector('#df-37d870b2-e53c-4287-8f2e-bc636dff9658');\n",
              "        const dataTable =\n",
              "          await google.colab.kernel.invokeFunction('convertToInteractive',\n",
              "                                                    [key], {});\n",
              "        if (!dataTable) return;\n",
              "\n",
              "        const docLinkHtml = 'Like what you see? Visit the ' +\n",
              "          '<a target=\"_blank\" href=https://colab.research.google.com/notebooks/data_table.ipynb>data table notebook</a>'\n",
              "          + ' to learn more about interactive tables.';\n",
              "        element.innerHTML = '';\n",
              "        dataTable['output_type'] = 'display_data';\n",
              "        await google.colab.output.renderOutput(dataTable, element);\n",
              "        const docLink = document.createElement('div');\n",
              "        docLink.innerHTML = docLinkHtml;\n",
              "        element.appendChild(docLink);\n",
              "      }\n",
              "    </script>\n",
              "  </div>\n",
              "\n",
              "\n",
              "<div id=\"df-7b40471a-08dd-459c-af8d-68ebf98de33b\">\n",
              "  <button class=\"colab-df-quickchart\" onclick=\"quickchart('df-7b40471a-08dd-459c-af8d-68ebf98de33b')\"\n",
              "            title=\"Suggest charts\"\n",
              "            style=\"display:none;\">\n",
              "\n",
              "<svg xmlns=\"http://www.w3.org/2000/svg\" height=\"24px\"viewBox=\"0 0 24 24\"\n",
              "     width=\"24px\">\n",
              "    <g>\n",
              "        <path d=\"M19 3H5c-1.1 0-2 .9-2 2v14c0 1.1.9 2 2 2h14c1.1 0 2-.9 2-2V5c0-1.1-.9-2-2-2zM9 17H7v-7h2v7zm4 0h-2V7h2v10zm4 0h-2v-4h2v4z\"/>\n",
              "    </g>\n",
              "</svg>\n",
              "  </button>\n",
              "\n",
              "<style>\n",
              "  .colab-df-quickchart {\n",
              "      --bg-color: #E8F0FE;\n",
              "      --fill-color: #1967D2;\n",
              "      --hover-bg-color: #E2EBFA;\n",
              "      --hover-fill-color: #174EA6;\n",
              "      --disabled-fill-color: #AAA;\n",
              "      --disabled-bg-color: #DDD;\n",
              "  }\n",
              "\n",
              "  [theme=dark] .colab-df-quickchart {\n",
              "      --bg-color: #3B4455;\n",
              "      --fill-color: #D2E3FC;\n",
              "      --hover-bg-color: #434B5C;\n",
              "      --hover-fill-color: #FFFFFF;\n",
              "      --disabled-bg-color: #3B4455;\n",
              "      --disabled-fill-color: #666;\n",
              "  }\n",
              "\n",
              "  .colab-df-quickchart {\n",
              "    background-color: var(--bg-color);\n",
              "    border: none;\n",
              "    border-radius: 50%;\n",
              "    cursor: pointer;\n",
              "    display: none;\n",
              "    fill: var(--fill-color);\n",
              "    height: 32px;\n",
              "    padding: 0;\n",
              "    width: 32px;\n",
              "  }\n",
              "\n",
              "  .colab-df-quickchart:hover {\n",
              "    background-color: var(--hover-bg-color);\n",
              "    box-shadow: 0 1px 2px rgba(60, 64, 67, 0.3), 0 1px 3px 1px rgba(60, 64, 67, 0.15);\n",
              "    fill: var(--button-hover-fill-color);\n",
              "  }\n",
              "\n",
              "  .colab-df-quickchart-complete:disabled,\n",
              "  .colab-df-quickchart-complete:disabled:hover {\n",
              "    background-color: var(--disabled-bg-color);\n",
              "    fill: var(--disabled-fill-color);\n",
              "    box-shadow: none;\n",
              "  }\n",
              "\n",
              "  .colab-df-spinner {\n",
              "    border: 2px solid var(--fill-color);\n",
              "    border-color: transparent;\n",
              "    border-bottom-color: var(--fill-color);\n",
              "    animation:\n",
              "      spin 1s steps(1) infinite;\n",
              "  }\n",
              "\n",
              "  @keyframes spin {\n",
              "    0% {\n",
              "      border-color: transparent;\n",
              "      border-bottom-color: var(--fill-color);\n",
              "      border-left-color: var(--fill-color);\n",
              "    }\n",
              "    20% {\n",
              "      border-color: transparent;\n",
              "      border-left-color: var(--fill-color);\n",
              "      border-top-color: var(--fill-color);\n",
              "    }\n",
              "    30% {\n",
              "      border-color: transparent;\n",
              "      border-left-color: var(--fill-color);\n",
              "      border-top-color: var(--fill-color);\n",
              "      border-right-color: var(--fill-color);\n",
              "    }\n",
              "    40% {\n",
              "      border-color: transparent;\n",
              "      border-right-color: var(--fill-color);\n",
              "      border-top-color: var(--fill-color);\n",
              "    }\n",
              "    60% {\n",
              "      border-color: transparent;\n",
              "      border-right-color: var(--fill-color);\n",
              "    }\n",
              "    80% {\n",
              "      border-color: transparent;\n",
              "      border-right-color: var(--fill-color);\n",
              "      border-bottom-color: var(--fill-color);\n",
              "    }\n",
              "    90% {\n",
              "      border-color: transparent;\n",
              "      border-bottom-color: var(--fill-color);\n",
              "    }\n",
              "  }\n",
              "</style>\n",
              "\n",
              "  <script>\n",
              "    async function quickchart(key) {\n",
              "      const quickchartButtonEl =\n",
              "        document.querySelector('#' + key + ' button');\n",
              "      quickchartButtonEl.disabled = true;  // To prevent multiple clicks.\n",
              "      quickchartButtonEl.classList.add('colab-df-spinner');\n",
              "      try {\n",
              "        const charts = await google.colab.kernel.invokeFunction(\n",
              "            'suggestCharts', [key], {});\n",
              "      } catch (error) {\n",
              "        console.error('Error during call to suggestCharts:', error);\n",
              "      }\n",
              "      quickchartButtonEl.classList.remove('colab-df-spinner');\n",
              "      quickchartButtonEl.classList.add('colab-df-quickchart-complete');\n",
              "    }\n",
              "    (() => {\n",
              "      let quickchartButtonEl =\n",
              "        document.querySelector('#df-7b40471a-08dd-459c-af8d-68ebf98de33b button');\n",
              "      quickchartButtonEl.style.display =\n",
              "        google.colab.kernel.accessAllowed ? 'block' : 'none';\n",
              "    })();\n",
              "  </script>\n",
              "</div>\n",
              "\n",
              "    </div>\n",
              "  </div>\n"
            ],
            "application/vnd.google.colaboratory.intrinsic+json": {
              "type": "dataframe",
              "variable_name": "data",
              "summary": "{\n  \"name\": \"data\",\n  \"rows\": 1274,\n  \"fields\": [\n    {\n      \"column\": \"Company\",\n      \"properties\": {\n        \"dtype\": \"category\",\n        \"num_unique_values\": 19,\n        \"samples\": [\n          \"Apple\",\n          \"Lenovo\",\n          \"Xiaomi\"\n        ],\n        \"semantic_type\": \"\",\n        \"description\": \"\"\n      }\n    },\n    {\n      \"column\": \"TypeName\",\n      \"properties\": {\n        \"dtype\": \"category\",\n        \"num_unique_values\": 6,\n        \"samples\": [\n          \"Ultrabook\",\n          \"Notebook\",\n          \"Workstation\"\n        ],\n        \"semantic_type\": \"\",\n        \"description\": \"\"\n      }\n    },\n    {\n      \"column\": \"Inches\",\n      \"properties\": {\n        \"dtype\": \"number\",\n        \"std\": 1.429939643303419,\n        \"min\": 10.1,\n        \"max\": 18.4,\n        \"num_unique_values\": 18,\n        \"samples\": [\n          13.3,\n          15.6,\n          13.5\n        ],\n        \"semantic_type\": \"\",\n        \"description\": \"\"\n      }\n    },\n    {\n      \"column\": \"Cpu\",\n      \"properties\": {\n        \"dtype\": \"category\",\n        \"num_unique_values\": 18,\n        \"samples\": [\n          \"Intel Core i5\",\n          \"Intel Core i7\",\n          \"Intel Celeron\"\n        ],\n        \"semantic_type\": \"\",\n        \"description\": \"\"\n      }\n    },\n    {\n      \"column\": \"Ram\",\n      \"properties\": {\n        \"dtype\": \"int16\",\n        \"num_unique_values\": 9,\n        \"samples\": [\n          24,\n          16,\n          6\n        ],\n        \"semantic_type\": \"\",\n        \"description\": \"\"\n      }\n    },\n    {\n      \"column\": \"Gpu\",\n      \"properties\": {\n        \"dtype\": \"category\",\n        \"num_unique_values\": 12,\n        \"samples\": [\n          \"Intel Graphics\",\n          \"AMD FirePro\",\n          \"Intel Iris\"\n        ],\n        \"semantic_type\": \"\",\n        \"description\": \"\"\n      }\n    },\n    {\n      \"column\": \"OpSys\",\n      \"properties\": {\n        \"dtype\": \"category\",\n        \"num_unique_values\": 9,\n        \"samples\": [\n          \"Chrome OS\",\n          \"No OS\",\n          \"Android\"\n        ],\n        \"semantic_type\": \"\",\n        \"description\": \"\"\n      }\n    },\n    {\n      \"column\": \"Weight\",\n      \"properties\": {\n        \"dtype\": \"number\",\n        \"std\": 0.6694438335076554,\n        \"min\": 0.69,\n        \"max\": 4.7,\n        \"num_unique_values\": 171,\n        \"samples\": [\n          2.6,\n          2.05,\n          1.32\n        ],\n        \"semantic_type\": \"\",\n        \"description\": \"\"\n      }\n    },\n    {\n      \"column\": \"Price_IDR\",\n      \"properties\": {\n        \"dtype\": \"number\",\n        \"std\": 7261311.869076564,\n        \"min\": 1803155.04,\n        \"max\": 63203693.04,\n        \"num_unique_values\": 791,\n        \"samples\": [\n          13388944.32,\n          4031191.44,\n          18632602.08\n        ],\n        \"semantic_type\": \"\",\n        \"description\": \"\"\n      }\n    },\n    {\n      \"column\": \"Touch_screen\",\n      \"properties\": {\n        \"dtype\": \"number\",\n        \"std\": 0,\n        \"min\": 0,\n        \"max\": 1,\n        \"num_unique_values\": 2,\n        \"samples\": [\n          1,\n          0\n        ],\n        \"semantic_type\": \"\",\n        \"description\": \"\"\n      }\n    },\n    {\n      \"column\": \"X_dim\",\n      \"properties\": {\n        \"dtype\": \"number\",\n        \"std\": 493,\n        \"min\": 1366,\n        \"max\": 3840,\n        \"num_unique_values\": 13,\n        \"samples\": [\n          2736,\n          2160\n        ],\n        \"semantic_type\": \"\",\n        \"description\": \"\"\n      }\n    },\n    {\n      \"column\": \"Y_dim\",\n      \"properties\": {\n        \"dtype\": \"number\",\n        \"std\": 283,\n        \"min\": 768,\n        \"max\": 2160,\n        \"num_unique_values\": 10,\n        \"samples\": [\n          2160,\n          900\n        ],\n        \"semantic_type\": \"\",\n        \"description\": \"\"\n      }\n    },\n    {\n      \"column\": \"IPS\",\n      \"properties\": {\n        \"dtype\": \"number\",\n        \"std\": 0,\n        \"min\": 0,\n        \"max\": 1,\n        \"num_unique_values\": 2,\n        \"samples\": [\n          0,\n          1\n        ],\n        \"semantic_type\": \"\",\n        \"description\": \"\"\n      }\n    },\n    {\n      \"column\": \"HD\",\n      \"properties\": {\n        \"dtype\": \"number\",\n        \"std\": 0,\n        \"min\": 0,\n        \"max\": 1,\n        \"num_unique_values\": 2,\n        \"samples\": [\n          1,\n          0\n        ],\n        \"semantic_type\": \"\",\n        \"description\": \"\"\n      }\n    },\n    {\n      \"column\": \"SSD\",\n      \"properties\": {\n        \"dtype\": \"number\",\n        \"std\": 184,\n        \"min\": 0,\n        \"max\": 1000,\n        \"num_unique_values\": 11,\n        \"samples\": [\n          64,\n          128\n        ],\n        \"semantic_type\": \"\",\n        \"description\": \"\"\n      }\n    },\n    {\n      \"column\": \"HDD\",\n      \"properties\": {\n        \"dtype\": \"number\",\n        \"std\": 516,\n        \"min\": 0,\n        \"max\": 2000,\n        \"num_unique_values\": 6,\n        \"samples\": [\n          0,\n          500\n        ],\n        \"semantic_type\": \"\",\n        \"description\": \"\"\n      }\n    },\n    {\n      \"column\": \"Flash\",\n      \"properties\": {\n        \"dtype\": \"number\",\n        \"std\": 30,\n        \"min\": 0,\n        \"max\": 512,\n        \"num_unique_values\": 7,\n        \"samples\": [\n          0,\n          128\n        ],\n        \"semantic_type\": \"\",\n        \"description\": \"\"\n      }\n    },\n    {\n      \"column\": \"Hybrid\",\n      \"properties\": {\n        \"dtype\": \"number\",\n        \"std\": 84,\n        \"min\": 0,\n        \"max\": 1000,\n        \"num_unique_values\": 3,\n        \"samples\": [\n          0,\n          1000\n        ],\n        \"semantic_type\": \"\",\n        \"description\": \"\"\n      }\n    }\n  ]\n}"
            }
          },
          "metadata": {},
          "execution_count": 102
        }
      ]
    },
    {
      "cell_type": "markdown",
      "source": [
        "### **Exploratory Data Analysis**\n",
        "\n",
        "EDA is important to understand the data further, looking into each features of the dataset into more details."
      ],
      "metadata": {
        "id": "SswwFTTDJ14q"
      }
    },
    {
      "cell_type": "code",
      "source": [
        "plt.figure(figsize=(8, 3))\n",
        "ax = sns.countplot(x=data['Company'])\n",
        "ax.bar_label(ax.containers[0])\n",
        "plt.title('Distribution of Brands', fontweight = 'bold')\n",
        "plt.xticks(rotation=90)\n",
        "plt.show()"
      ],
      "metadata": {
        "colab": {
          "base_uri": "https://localhost:8080/",
          "height": 391
        },
        "id": "vWqmX8adHF0K",
        "outputId": "e6f2a1d1-2be1-4e3f-db8a-58f8f44a069a"
      },
      "execution_count": null,
      "outputs": [
        {
          "output_type": "display_data",
          "data": {
            "text/plain": [
              "<Figure size 800x300 with 1 Axes>"
            ],
            "image/png": "[encoded data removed]"
          },
          "metadata": {}
        }
      ]
    },
    {
      "cell_type": "markdown",
      "source": [
        "**Note:** The dataset includes numerous brands with very few sample points. When interpreting the model and making forecasts, it is important to consider the impact of these small sample sizes.\n",
        "\n",
        "One potential approach to address this issue is to remove data from brands with fewer than 10 samples to ensure that the model is not overly influenced by these minor categories. However, for the purposes of this analysis, we will retain all brands in the dataset. This decision is made to preserve the full scope of the data and evaluate the model's performance comprehensively. Future steps may involve assessing whether excluding these brands could improve model accuracy or stability.\n"
      ],
      "metadata": {
        "id": "xqs7w-cCrY0G"
      }
    },
    {
      "cell_type": "markdown",
      "source": [
        "**Price Distribution per Brand**\n",
        "\n",
        "To understand the price distribution for each brand, we examined the dataset and plotted the price ranges across different brands. The following observations were made:\n",
        "\n",
        "1. **Wide Range of Prices:**\n",
        "  \n",
        "  There is no clear pattern in the price distributions for different brands. Most brands exhibit a broad range of prices, indicating variability within each brand.\n",
        "\n",
        "2. **Impact of Sample Size:**\n",
        "\n",
        "  The price distribution plots show that brands with more sample points tend to have more pronounced outliers. This suggests that the number of samples can influence the apparent variability and representation of price data.\n",
        "\n",
        "3. **Plot Representation:**\n",
        "\n",
        "  The plot may be less representative due to the varying number of sample points for each brand. Brands with fewer samples might not show the full extent of their price range, while brands with more samples might exhibit more outliers and variability."
      ],
      "metadata": {
        "id": "sP9nMpI8fGA9"
      }
    },
    {
      "cell_type": "code",
      "source": [
        "sns.boxplot(x='Company', y='Price_IDR', data=data, hue='Company')\n",
        "plt.title('Distribution of Price per Brand', fontweight = 'bold')\n",
        "plt.xticks(rotation=90)\n",
        "plt.show()"
      ],
      "metadata": {
        "id": "WwIxtp_PPGZy",
        "colab": {
          "base_uri": "https://localhost:8080/",
          "height": 529
        },
        "outputId": "0560ffc6-b97c-4a16-bc47-04e38df116b9"
      },
      "execution_count": null,
      "outputs": [
        {
          "output_type": "display_data",
          "data": {
            "text/plain": [
              "<Figure size 640x480 with 1 Axes>"
            ],
            "image/png": "[encoded data removed]"
          },
          "metadata": {}
        }
      ]
    },
    {
      "cell_type": "markdown",
      "source": [
        "Next, we examined the distribution of CPU and GPU types in relation to the price of the laptops. The following observations were made:\n",
        "\n",
        "1. **CPU Price Distribution:**\n",
        "   - The price distribution for each CPU type is generally clustered around its mean. The distribution for most CPU types is relatively consistent, with the notable exception of Intel Xeon, which shows some variation.\n",
        "   - This observation supports the earlier decision to process CPU specifications by retaining the first two or three words. For example, differentiating between Intel Core i5 and i7 proves useful, as their price distributions are notably different. This confirms that keeping these distinctions, rather than further grouping all Intel Core processors, is appropriate.\n",
        "\n",
        "2. **GPU Price Distribution:**\n",
        "   - Similarly, the distribution of prices across different GPU types was analyzed. The results help understand how different GPUs affect pricing and whether additional grouping or distinctions might be necessary.\n",
        "\n",
        "In summary, the analysis of CPU and GPU distributions relative to price reaffirms the effectiveness of the earlier data processing steps."
      ],
      "metadata": {
        "id": "6rEC7R09ddVG"
      }
    },
    {
      "cell_type": "code",
      "source": [
        "plt.figure(figsize=(5, 3))\n",
        "sns.barplot(x='Cpu', y='Price_IDR', data=data, hue='Cpu')\n",
        "plt.title('Average Price per Cpu Type', fontweight = 'bold')\n",
        "plt.xticks(rotation=90)\n",
        "plt.show()"
      ],
      "metadata": {
        "colab": {
          "base_uri": "https://localhost:8080/",
          "height": 434
        },
        "id": "Vos-Icftki9A",
        "outputId": "54887f97-5d56-44fd-fd49-f66815b983e3"
      },
      "execution_count": null,
      "outputs": [
        {
          "output_type": "display_data",
          "data": {
            "text/plain": [
              "<Figure size 500x300 with 1 Axes>"
            ],
            "image/png": "[encoded data removed]"
          },
          "metadata": {}
        }
      ]
    },
    {
      "cell_type": "code",
      "source": [
        "plt.figure(figsize=(5, 3))\n",
        "sns.barplot(x='Gpu', y='Price_IDR', data=data, hue='Gpu')\n",
        "plt.title('Average Price per Gpu', fontweight = 'bold')\n",
        "plt.xticks(rotation=90)\n",
        "plt.show()"
      ],
      "metadata": {
        "colab": {
          "base_uri": "https://localhost:8080/",
          "height": 443
        },
        "id": "XW_HrJMocuBd",
        "outputId": "44fa89b6-8b5e-43f6-a950-807d98a895a2"
      },
      "execution_count": null,
      "outputs": [
        {
          "output_type": "display_data",
          "data": {
            "text/plain": [
              "<Figure size 500x300 with 1 Axes>"
            ],
            "image/png": "[encoded data removed]"
          },
          "metadata": {}
        }
      ]
    },
    {
      "cell_type": "markdown",
      "source": [
        "As expected, the following analysis shows that the price of a laptop generally increases with higher RAM capacity."
      ],
      "metadata": {
        "id": "iCQqQTUpdv8W"
      }
    },
    {
      "cell_type": "code",
      "source": [
        "plt.figure(figsize=(5, 3))\n",
        "sns.barplot(x='Ram', y='Price_IDR', data=data)\n",
        "plt.title('Average Price by RAM size (GB)', fontweight = 'bold')\n",
        "plt.xticks(rotation=90)\n",
        "plt.show()"
      ],
      "metadata": {
        "id": "dOEEG9L1l_lf",
        "colab": {
          "base_uri": "https://localhost:8080/",
          "height": 337
        },
        "outputId": "1131c712-eaeb-4486-a026-a952ac3a6561"
      },
      "execution_count": null,
      "outputs": [
        {
          "output_type": "display_data",
          "data": {
            "text/plain": [
              "<Figure size 500x300 with 1 Axes>"
            ],
            "image/png": "[encoded data removed]"
          },
          "metadata": {}
        }
      ]
    },
    {
      "cell_type": "markdown",
      "source": [
        "Finally, we analyzed the distribution of laptop prices. The following steps were taken to improve the distribution and prepare the data for modeling:\n",
        "\n",
        "1. **Price Distribution Analysis:**\n",
        "   \n",
        "   The initial analysis of the price distribution revealed that it is right-skewed\n",
        "\n",
        "2. **Log Transformation:**\n",
        "   \n",
        "   To address the skewness and normalize the distribution, a logarithmic transformation was applied to the price data. This transformation helps to:\n",
        "     - Make the distribution more normally distributed\n",
        "     - Reduce the magnitude of price values, which can be beneficial for modeling purposes\n",
        "\n",
        "3. **Column Update:**\n",
        "  - The original `Price_IDR` column, which contained the raw price data, was dropped.\n",
        "   - The transformed price data was placed into a new `Price` column."
      ],
      "metadata": {
        "id": "tzPjo8LQeBNK"
      }
    },
    {
      "cell_type": "code",
      "source": [
        "sns.displot(x=data['Price_IDR'], kde=True)\n",
        "plt.title('Distribution of Price (IDR)', fontweight = 'bold')\n",
        "plt.show()"
      ],
      "metadata": {
        "colab": {
          "base_uri": "https://localhost:8080/",
          "height": 529
        },
        "id": "QM0yR3POc-of",
        "outputId": "514a6c71-6be9-4492-b271-d8bcc872d413"
      },
      "execution_count": null,
      "outputs": [
        {
          "output_type": "display_data",
          "data": {
            "text/plain": [
              "<Figure size 500x500 with 1 Axes>"
            ],
            "image/png": "[encoded data removed]"
          },
          "metadata": {}
        }
      ]
    },
    {
      "cell_type": "code",
      "source": [
        "data['Price'] = np.log(data['Price_IDR'])\n",
        "data.drop('Price_IDR', axis=1, inplace=True)"
      ],
      "metadata": {
        "id": "8ESgB2V9lTV7"
      },
      "execution_count": null,
      "outputs": []
    },
    {
      "cell_type": "markdown",
      "source": [
        "The transformed `Price` column now reflects a more normal distribution, with reduced skewness and smaller values, making it better suited for subsequent modeling and analysis."
      ],
      "metadata": {
        "id": "lpXAVROeeXni"
      }
    },
    {
      "cell_type": "code",
      "source": [
        "sns.displot(x=data['Price'], kde=True)\n",
        "plt.title('Distribution of Logtransformed Price', fontweight = 'bold')\n",
        "plt.show()"
      ],
      "metadata": {
        "colab": {
          "base_uri": "https://localhost:8080/",
          "height": 529
        },
        "id": "nB5o5coOoM6G",
        "outputId": "52527ced-8491-4ec9-fb29-6a06ee0fc8b8"
      },
      "execution_count": null,
      "outputs": [
        {
          "output_type": "display_data",
          "data": {
            "text/plain": [
              "<Figure size 500x500 with 1 Axes>"
            ],
            "image/png": "[encoded data removed]"
          },
          "metadata": {}
        }
      ]
    },
    {
      "cell_type": "markdown",
      "source": [
        "## **Model**"
      ],
      "metadata": {
        "id": "aTN3XtyKier3"
      }
    },
    {
      "cell_type": "code",
      "source": [
        "from sklearn.model_selection import train_test_split\n",
        "from sklearn.preprocessing import OneHotEncoder\n",
        "from sklearn.pipeline import Pipeline\n",
        "from sklearn.compose import ColumnTransformer\n",
        "from sklearn.linear_model import LinearRegression\n",
        "from sklearn.ensemble import RandomForestRegressor\n",
        "from sklearn.svm import SVR\n",
        "from xgboost import XGBRegressor\n",
        "from sklearn.metrics import r2_score, mean_absolute_error, mean_squared_error"
      ],
      "metadata": {
        "id": "cOym-t7fHGlw"
      },
      "execution_count": null,
      "outputs": []
    },
    {
      "cell_type": "markdown",
      "source": [
        "To prepare the data for modeling, we need to separate the features (input variables) from the target variable (label). In this case, the target variable is the `Price`, and the features include all other relevant columns in the dataset.\n",
        "   - The `X` dataframe consists of all columns that will be used as input features for the model\n",
        "   - The `y` dataframe contains the target variable, which in this case is `Price`. This column represents the value we aim to predict using the features in `X`"
      ],
      "metadata": {
        "id": "PvtNIaAQorAf"
      }
    },
    {
      "cell_type": "code",
      "source": [
        "df = data.copy()\n",
        "X = df.drop(['Price'], axis=1)\n",
        "y = df['Price']"
      ],
      "metadata": {
        "id": "gxhOF_IalXkg"
      },
      "execution_count": null,
      "outputs": []
    },
    {
      "cell_type": "markdown",
      "source": [
        "To evaluate the performance of our model, we need to split the data into training and testing subsets. The dataset is split into training and testing sets using an 80-20 split ratio. Also, to ensure reproducibility of the results, the `random_state` parameter is set to a fixed value."
      ],
      "metadata": {
        "id": "G4XXiCM3o6MQ"
      }
    },
    {
      "cell_type": "code",
      "source": [
        "X_train, X_test, y_train, y_test = train_test_split(X, y, test_size=0.15, random_state=42)"
      ],
      "metadata": {
        "id": "PuW0V-735hSB"
      },
      "execution_count": null,
      "outputs": []
    },
    {
      "cell_type": "markdown",
      "source": [
        "The model pipeline will consist of two main components:\n",
        "\n",
        "1. **One-Hot Encoding:**\n",
        "   - Categorical columns in the dataset will be encoded using one-hot encoding. This transformation converts categorical variables into a format that can be provided to machine learning algorithms.\n",
        "\n",
        "2. **Machine Learning Models:**\n",
        "   - We evaluate the following four machine learning models: Linear Regression, Support Vector Regression, Random Forest, and XGBoost\n",
        "\n",
        "The performance of each model will be evaluated using the following metrics:\n",
        "  \n",
        "  - **R2-Score:** Indicates how well the model explains the variability of the target variable. A score close to 1 signifies a good fit.\n",
        "  - **Mean Squared Error (MSE):** Measures the average squared difference between the predicted and actual values. Lower values indicate better model performance.\n",
        "  - **Mean Absolute Error (MAE):** Measures the average absolute difference between predicted and actual values. Lower values are preferred for better accuracy.\n",
        "\n",
        "\n",
        "*Note: The above approach represents a basic evaluation framework. More comprehensive analysis techniques, such as hyperparameter tuning, statistical significance tests, and cross-validation, can further refine model selection and improve performance.*\n"
      ],
      "metadata": {
        "id": "9n4L2rpRjMXp"
      }
    },
    {
      "cell_type": "code",
      "source": [
        "onehot_enc = ColumnTransformer(transformers=[('onehot', OneHotEncoder(sparse_output = False), ['Company','TypeName','Cpu','Gpu','OpSys'])] , remainder='passthrough')\n",
        "\n",
        "lr = LinearRegression()\n",
        "svr = SVR(kernel='rbf', C=100)\n",
        "rf = RandomForestRegressor(n_estimators=100)\n",
        "xgb = XGBRegressor(learning_rate=0.2)\n",
        "\n",
        "model = [lr, svr, rf, xgb]\n",
        "model_name = ['Linear regression', 'Support vector regression', 'Random forest', 'XGBoost']"
      ],
      "metadata": {
        "id": "1FtaYqTAwUmt"
      },
      "execution_count": null,
      "outputs": []
    },
    {
      "cell_type": "code",
      "source": [
        "tab = []\n",
        "pipe = [0,0,0,0]\n",
        "\n",
        "for id, mod in enumerate(model):\n",
        "  pipe[id] = Pipeline([('step1', onehot_enc), ('step2', mod)])\n",
        "  pipe[id].fit(X_train, y_train)\n",
        "  y_pred = pipe[id].predict(X_test)\n",
        "  r2 = r2_score(y_test, y_pred)\n",
        "  mse = mean_squared_error(y_test, y_pred)\n",
        "  mae = mean_absolute_error(y_test, y_pred)\n",
        "  tab.append([r2, mse, mae])\n",
        "\n",
        "pd.DataFrame(np.array(tab).T, columns=model_name, index=['R2', 'MSE', 'MAE'])"
      ],
      "metadata": {
        "colab": {
          "base_uri": "https://localhost:8080/",
          "height": 143
        },
        "id": "9Nt91Dpv2nsB",
        "outputId": "f7b72f53-8d57-45b2-9dc4-a76a53be66fc"
      },
      "execution_count": null,
      "outputs": [
        {
          "output_type": "execute_result",
          "data": {
            "text/plain": [
              "     Linear regression  Support vector regression  Random forest   XGBoost\n",
              "R2            0.849536                   0.647973       0.882620  0.908430\n",
              "MSE           0.057148                   0.133704       0.044582  0.034779\n",
              "MAE           0.189810                   0.283407       0.158541  0.141141"
            ],
            "text/html": [
              "\n",
              "  <div id=\"df-5552c87b-a4f1-410b-a28e-16f7268c6e43\" class=\"colab-df-container\">\n",
              "    <div>\n",
              "<style scoped>\n",
              "    .dataframe tbody tr th:only-of-type {\n",
              "        vertical-align: middle;\n",
              "    }\n",
              "\n",
              "    .dataframe tbody tr th {\n",
              "        vertical-align: top;\n",
              "    }\n",
              "\n",
              "    .dataframe thead th {\n",
              "        text-align: right;\n",
              "    }\n",
              "</style>\n",
              "<table border=\"1\" class=\"dataframe\">\n",
              "  <thead>\n",
              "    <tr style=\"text-align: right;\">\n",
              "      <th></th>\n",
              "      <th>Linear regression</th>\n",
              "      <th>Support vector regression</th>\n",
              "      <th>Random forest</th>\n",
              "      <th>XGBoost</th>\n",
              "    </tr>\n",
              "  </thead>\n",
              "  <tbody>\n",
              "    <tr>\n",
              "      <th>R2</th>\n",
              "      <td>0.849536</td>\n",
              "      <td>0.647973</td>\n",
              "      <td>0.882620</td>\n",
              "      <td>0.908430</td>\n",
              "    </tr>\n",
              "    <tr>\n",
              "      <th>MSE</th>\n",
              "      <td>0.057148</td>\n",
              "      <td>0.133704</td>\n",
              "      <td>0.044582</td>\n",
              "      <td>0.034779</td>\n",
              "    </tr>\n",
              "    <tr>\n",
              "      <th>MAE</th>\n",
              "      <td>0.189810</td>\n",
              "      <td>0.283407</td>\n",
              "      <td>0.158541</td>\n",
              "      <td>0.141141</td>\n",
              "    </tr>\n",
              "  </tbody>\n",
              "</table>\n",
              "</div>\n",
              "    <div class=\"colab-df-buttons\">\n",
              "\n",
              "  <div class=\"colab-df-container\">\n",
              "    <button class=\"colab-df-convert\" onclick=\"convertToInteractive('df-5552c87b-a4f1-410b-a28e-16f7268c6e43')\"\n",
              "            title=\"Convert this dataframe to an interactive table.\"\n",
              "            style=\"display:none;\">\n",
              "\n",
              "  <svg xmlns=\"http://www.w3.org/2000/svg\" height=\"24px\" viewBox=\"0 -960 960 960\">\n",
              "    <path d=\"M120-120v-720h720v720H120Zm60-500h600v-160H180v160Zm220 220h160v-160H400v160Zm0 220h160v-160H400v160ZM180-400h160v-160H180v160Zm440 0h160v-160H620v160ZM180-180h160v-160H180v160Zm440 0h160v-160H620v160Z\"/>\n",
              "  </svg>\n",
              "    </button>\n",
              "\n",
              "  <style>\n",
              "    .colab-df-container {\n",
              "      display:flex;\n",
              "      gap: 12px;\n",
              "    }\n",
              "\n",
              "    .colab-df-convert {\n",
              "      background-color: #E8F0FE;\n",
              "      border: none;\n",
              "      border-radius: 50%;\n",
              "      cursor: pointer;\n",
              "      display: none;\n",
              "      fill: #1967D2;\n",
              "      height: 32px;\n",
              "      padding: 0 0 0 0;\n",
              "      width: 32px;\n",
              "    }\n",
              "\n",
              "    .colab-df-convert:hover {\n",
              "      background-color: #E2EBFA;\n",
              "      box-shadow: 0px 1px 2px rgba(60, 64, 67, 0.3), 0px 1px 3px 1px rgba(60, 64, 67, 0.15);\n",
              "      fill: #174EA6;\n",
              "    }\n",
              "\n",
              "    .colab-df-buttons div {\n",
              "      margin-bottom: 4px;\n",
              "    }\n",
              "\n",
              "    [theme=dark] .colab-df-convert {\n",
              "      background-color: #3B4455;\n",
              "      fill: #D2E3FC;\n",
              "    }\n",
              "\n",
              "    [theme=dark] .colab-df-convert:hover {\n",
              "      background-color: #434B5C;\n",
              "      box-shadow: 0px 1px 3px 1px rgba(0, 0, 0, 0.15);\n",
              "      filter: drop-shadow(0px 1px 2px rgba(0, 0, 0, 0.3));\n",
              "      fill: #FFFFFF;\n",
              "    }\n",
              "  </style>\n",
              "\n",
              "    <script>\n",
              "      const buttonEl =\n",
              "        document.querySelector('#df-5552c87b-a4f1-410b-a28e-16f7268c6e43 button.colab-df-convert');\n",
              "      buttonEl.style.display =\n",
              "        google.colab.kernel.accessAllowed ? 'block' : 'none';\n",
              "\n",
              "      async function convertToInteractive(key) {\n",
              "        const element = document.querySelector('#df-5552c87b-a4f1-410b-a28e-16f7268c6e43');\n",
              "        const dataTable =\n",
              "          await google.colab.kernel.invokeFunction('convertToInteractive',\n",
              "                                                    [key], {});\n",
              "        if (!dataTable) return;\n",
              "\n",
              "        const docLinkHtml = 'Like what you see? Visit the ' +\n",
              "          '<a target=\"_blank\" href=https://colab.research.google.com/notebooks/data_table.ipynb>data table notebook</a>'\n",
              "          + ' to learn more about interactive tables.';\n",
              "        element.innerHTML = '';\n",
              "        dataTable['output_type'] = 'display_data';\n",
              "        await google.colab.output.renderOutput(dataTable, element);\n",
              "        const docLink = document.createElement('div');\n",
              "        docLink.innerHTML = docLinkHtml;\n",
              "        element.appendChild(docLink);\n",
              "      }\n",
              "    </script>\n",
              "  </div>\n",
              "\n",
              "\n",
              "<div id=\"df-a0560bb6-c420-4fce-b24e-928e08ca06bc\">\n",
              "  <button class=\"colab-df-quickchart\" onclick=\"quickchart('df-a0560bb6-c420-4fce-b24e-928e08ca06bc')\"\n",
              "            title=\"Suggest charts\"\n",
              "            style=\"display:none;\">\n",
              "\n",
              "<svg xmlns=\"http://www.w3.org/2000/svg\" height=\"24px\"viewBox=\"0 0 24 24\"\n",
              "     width=\"24px\">\n",
              "    <g>\n",
              "        <path d=\"M19 3H5c-1.1 0-2 .9-2 2v14c0 1.1.9 2 2 2h14c1.1 0 2-.9 2-2V5c0-1.1-.9-2-2-2zM9 17H7v-7h2v7zm4 0h-2V7h2v10zm4 0h-2v-4h2v4z\"/>\n",
              "    </g>\n",
              "</svg>\n",
              "  </button>\n",
              "\n",
              "<style>\n",
              "  .colab-df-quickchart {\n",
              "      --bg-color: #E8F0FE;\n",
              "      --fill-color: #1967D2;\n",
              "      --hover-bg-color: #E2EBFA;\n",
              "      --hover-fill-color: #174EA6;\n",
              "      --disabled-fill-color: #AAA;\n",
              "      --disabled-bg-color: #DDD;\n",
              "  }\n",
              "\n",
              "  [theme=dark] .colab-df-quickchart {\n",
              "      --bg-color: #3B4455;\n",
              "      --fill-color: #D2E3FC;\n",
              "      --hover-bg-color: #434B5C;\n",
              "      --hover-fill-color: #FFFFFF;\n",
              "      --disabled-bg-color: #3B4455;\n",
              "      --disabled-fill-color: #666;\n",
              "  }\n",
              "\n",
              "  .colab-df-quickchart {\n",
              "    background-color: var(--bg-color);\n",
              "    border: none;\n",
              "    border-radius: 50%;\n",
              "    cursor: pointer;\n",
              "    display: none;\n",
              "    fill: var(--fill-color);\n",
              "    height: 32px;\n",
              "    padding: 0;\n",
              "    width: 32px;\n",
              "  }\n",
              "\n",
              "  .colab-df-quickchart:hover {\n",
              "    background-color: var(--hover-bg-color);\n",
              "    box-shadow: 0 1px 2px rgba(60, 64, 67, 0.3), 0 1px 3px 1px rgba(60, 64, 67, 0.15);\n",
              "    fill: var(--button-hover-fill-color);\n",
              "  }\n",
              "\n",
              "  .colab-df-quickchart-complete:disabled,\n",
              "  .colab-df-quickchart-complete:disabled:hover {\n",
              "    background-color: var(--disabled-bg-color);\n",
              "    fill: var(--disabled-fill-color);\n",
              "    box-shadow: none;\n",
              "  }\n",
              "\n",
              "  .colab-df-spinner {\n",
              "    border: 2px solid var(--fill-color);\n",
              "    border-color: transparent;\n",
              "    border-bottom-color: var(--fill-color);\n",
              "    animation:\n",
              "      spin 1s steps(1) infinite;\n",
              "  }\n",
              "\n",
              "  @keyframes spin {\n",
              "    0% {\n",
              "      border-color: transparent;\n",
              "      border-bottom-color: var(--fill-color);\n",
              "      border-left-color: var(--fill-color);\n",
              "    }\n",
              "    20% {\n",
              "      border-color: transparent;\n",
              "      border-left-color: var(--fill-color);\n",
              "      border-top-color: var(--fill-color);\n",
              "    }\n",
              "    30% {\n",
              "      border-color: transparent;\n",
              "      border-left-color: var(--fill-color);\n",
              "      border-top-color: var(--fill-color);\n",
              "      border-right-color: var(--fill-color);\n",
              "    }\n",
              "    40% {\n",
              "      border-color: transparent;\n",
              "      border-right-color: var(--fill-color);\n",
              "      border-top-color: var(--fill-color);\n",
              "    }\n",
              "    60% {\n",
              "      border-color: transparent;\n",
              "      border-right-color: var(--fill-color);\n",
              "    }\n",
              "    80% {\n",
              "      border-color: transparent;\n",
              "      border-right-color: var(--fill-color);\n",
              "      border-bottom-color: var(--fill-color);\n",
              "    }\n",
              "    90% {\n",
              "      border-color: transparent;\n",
              "      border-bottom-color: var(--fill-color);\n",
              "    }\n",
              "  }\n",
              "</style>\n",
              "\n",
              "  <script>\n",
              "    async function quickchart(key) {\n",
              "      const quickchartButtonEl =\n",
              "        document.querySelector('#' + key + ' button');\n",
              "      quickchartButtonEl.disabled = true;  // To prevent multiple clicks.\n",
              "      quickchartButtonEl.classList.add('colab-df-spinner');\n",
              "      try {\n",
              "        const charts = await google.colab.kernel.invokeFunction(\n",
              "            'suggestCharts', [key], {});\n",
              "      } catch (error) {\n",
              "        console.error('Error during call to suggestCharts:', error);\n",
              "      }\n",
              "      quickchartButtonEl.classList.remove('colab-df-spinner');\n",
              "      quickchartButtonEl.classList.add('colab-df-quickchart-complete');\n",
              "    }\n",
              "    (() => {\n",
              "      let quickchartButtonEl =\n",
              "        document.querySelector('#df-a0560bb6-c420-4fce-b24e-928e08ca06bc button');\n",
              "      quickchartButtonEl.style.display =\n",
              "        google.colab.kernel.accessAllowed ? 'block' : 'none';\n",
              "    })();\n",
              "  </script>\n",
              "</div>\n",
              "\n",
              "    </div>\n",
              "  </div>\n"
            ],
            "application/vnd.google.colaboratory.intrinsic+json": {
              "type": "dataframe",
              "summary": "{\n  \"name\": \"pd\",\n  \"rows\": 3,\n  \"fields\": [\n    {\n      \"column\": \"Linear regression\",\n      \"properties\": {\n        \"dtype\": \"number\",\n        \"std\": 0.424404913569385,\n        \"min\": 0.05714814398346243,\n        \"max\": 0.8495362645604171,\n        \"num_unique_values\": 3,\n        \"samples\": [\n          0.8495362645604171,\n          0.05714814398346243,\n          0.18980967921686695\n        ],\n        \"semantic_type\": \"\",\n        \"description\": \"\"\n      }\n    },\n    {\n      \"column\": \"Support vector regression\",\n      \"properties\": {\n        \"dtype\": \"number\",\n        \"std\": 0.26450956192408875,\n        \"min\": 0.13370446005687697,\n        \"max\": 0.6479733005692733,\n        \"num_unique_values\": 3,\n        \"samples\": [\n          0.6479733005692733,\n          0.13370446005687697,\n          0.28340706562884516\n        ],\n        \"semantic_type\": \"\",\n        \"description\": \"\"\n      }\n    },\n    {\n      \"column\": \"Random forest\",\n      \"properties\": {\n        \"dtype\": \"number\",\n        \"std\": 0.4545298639815676,\n        \"min\": 0.04458246137037721,\n        \"max\": 0.8826200956794145,\n        \"num_unique_values\": 3,\n        \"samples\": [\n          0.8826200956794145,\n          0.04458246137037721,\n          0.15854081834594805\n        ],\n        \"semantic_type\": \"\",\n        \"description\": \"\"\n      }\n    },\n    {\n      \"column\": \"XGBoost\",\n      \"properties\": {\n        \"dtype\": \"number\",\n        \"std\": 0.47667450761639607,\n        \"min\": 0.034779364480909354,\n        \"max\": 0.9084303928133395,\n        \"num_unique_values\": 3,\n        \"samples\": [\n          0.9084303928133395,\n          0.034779364480909354,\n          0.14114131158675014\n        ],\n        \"semantic_type\": \"\",\n        \"description\": \"\"\n      }\n    }\n  ]\n}"
            }
          },
          "metadata": {},
          "execution_count": 166
        }
      ]
    },
    {
      "cell_type": "markdown",
      "source": [
        "After evaluating the performance of the four machine learning models, XGBoost gives the best result across the 3 metrics. Based on these findings, XGBoost will be selected as the final model for forecasting."
      ],
      "metadata": {
        "id": "ZnSXYNBO6Qcw"
      }
    },
    {
      "cell_type": "code",
      "source": [
        "final_model = pipe[3]"
      ],
      "metadata": {
        "id": "2oaL1FmQ6DO2"
      },
      "execution_count": null,
      "outputs": []
    },
    {
      "cell_type": "markdown",
      "source": [
        "### **Forecasting**"
      ],
      "metadata": {
        "id": "-mAHFvKoQrHs"
      }
    },
    {
      "cell_type": "markdown",
      "source": [
        "To utilize the XGBoost model for forecasting, a simple \"application\" has been developed to input laptop specifications. The application allows users to enter various attributes of the laptop, and the model provides a price prediction based on these inputs.\n",
        "\n",
        "Application Design:\n",
        "  - Users can fill in the specifications of the laptop, including features such as RAM, CPU type, GPU type, and screen resolution.\n",
        "  - It is assumed that the input format will always be correct and consistent with the expected format. As such, no notifications or error handling for incorrect formats are included in this version of the app.\n",
        "\n",
        "An alternative approach involves formatting the input data to match the initial CSV data format. The input specifications would be processed using the same data processing steps applied to the original dataset."
      ],
      "metadata": {
        "id": "egI_gToBkKaY"
      }
    },
    {
      "cell_type": "markdown",
      "source": [
        "To ensure that the input data for forecasting aligns with the feature columns used in the model, we need to retrieve all column names from the dataset, excluding the `Price` column. The following code achieves this:"
      ],
      "metadata": {
        "id": "gwGtQE5i6hkL"
      }
    },
    {
      "cell_type": "code",
      "source": [
        "col_title = np.array(data.columns)\n",
        "col_title = np.delete(col_title, np.where(col_title == 'Price'))\n",
        "col_title"
      ],
      "metadata": {
        "colab": {
          "base_uri": "https://localhost:8080/"
        },
        "id": "qj-Cz68-I3j8",
        "outputId": "a37662cb-829b-4c5b-e0e0-27a89c06d3b8"
      },
      "execution_count": null,
      "outputs": [
        {
          "output_type": "execute_result",
          "data": {
            "text/plain": [
              "array(['Company', 'TypeName', 'Inches', 'Cpu', 'Ram', 'Gpu', 'OpSys',\n",
              "       'Weight', 'Touch_screen', 'X_dim', 'Y_dim', 'IPS', 'HD', 'SSD',\n",
              "       'HDD', 'Flash', 'Hybrid'], dtype=object)"
            ]
          },
          "metadata": {},
          "execution_count": 36
        }
      ]
    },
    {
      "cell_type": "markdown",
      "source": [
        "<font color='orange'> **Run the following code to input the specifications.** </font>"
      ],
      "metadata": {
        "id": "IBtC4pPDU4DW"
      }
    },
    {
      "cell_type": "code",
      "source": [
        "arr = []\n",
        "\n",
        "for idx, col_name in enumerate(col_title):\n",
        "  if col_name in ['Company', 'TypeName', 'Cpu', 'Gpu', 'OpSys']:\n",
        "    for i, option in enumerate(data[col_name].unique()):\n",
        "      print(str(i) + '.' + option, end=' ')\n",
        "      if i!=0 and i % 7 == 0:\n",
        "        print('\\n')\n",
        "    print('\\n')\n",
        "    val = input(col_name + ' (fill in the number): ')\n",
        "    arr.append(data[col_name].unique()[int(val)])\n",
        "\n",
        "  elif col_name in ['Touch_screen', 'IPS', 'HD']:\n",
        "    val = input(col_name + ' (Yes/No): ')\n",
        "    if val.capitalize() == 'Yes':\n",
        "      arr.append(1)\n",
        "    else:\n",
        "      arr.append(0)\n",
        "\n",
        "  else:\n",
        "    val = float(input(col_name + ' : '))\n",
        "    arr.append(val)\n",
        "\n",
        "  print('\\n')"
      ],
      "metadata": {
        "colab": {
          "base_uri": "https://localhost:8080/"
        },
        "id": "cE1Lu2PVI-vY",
        "outputId": "ba9bcff3-a290-4308-a5bb-d091b5e82d7b"
      },
      "execution_count": null,
      "outputs": [
        {
          "output_type": "stream",
          "name": "stdout",
          "text": [
            "0.Apple 1.HP 2.Acer 3.Asus 4.Dell 5.Lenovo 6.Chuwi 7.MSI \n",
            "\n",
            "8.Microsoft 9.Toshiba 10.Huawei 11.Xiaomi 12.Vero 13.Razer 14.Mediacom \n",
            "\n",
            "15.Samsung 16.Google 17.Fujitsu 18.LG \n",
            "\n",
            "Company (fill in the number): 4\n",
            "\n",
            "\n",
            "0.Ultrabook 1.Notebook 2.Netbook 3.Gaming 4.2 in 1 Convertible 5.Workstation \n",
            "\n",
            "TypeName (fill in the number): 1\n",
            "\n",
            "\n",
            "Inches : 17.3\n",
            "\n",
            "\n",
            "0.Intel Core i5 1.Intel Core i7 2.AMD A9-Series 3.Intel Core i3 4.Intel Core M 5.Intel Atom 6.AMD E-Series 7.AMD A6-Series \n",
            "\n",
            "8.Intel Celeron 9.AMD Ryzen 10.Intel Pentium 11.AMD FX 12.Intel Xeon 13.AMD A10-Series 14.AMD A8-Series \n",
            "\n",
            "15.AMD A12-Series 16.AMD A4-Series 17.Samsung Cortex \n",
            "\n",
            "Cpu (fill in the number): 1\n",
            "\n",
            "\n",
            "Ram : 16\n",
            "\n",
            "\n",
            "0.Intel Iris 1.Intel HD 2.AMD Radeon 3.Nvidia GeForce 4.Intel UHD 5.AMD R4 6.Nvidia GTX 7.AMD R17M-M1-70 \n",
            "\n",
            "8.Nvidia Quadro 9.AMD FirePro 10.Intel Graphics 11.ARM Mali \n",
            "\n",
            "Gpu (fill in the number): 2\n",
            "\n",
            "\n",
            "0.macOS 1.No OS 2.Windows 10 3.Mac OS X 4.Linux 5.Android 6.Windows 10 S 7.Chrome OS \n",
            "\n",
            "8.Windows 7 \n",
            "\n",
            "OpSys (fill in the number): 4\n",
            "\n",
            "\n",
            "Weight : 2\n",
            "\n",
            "\n",
            "Touch_screen (Yes/No): no\n",
            "\n",
            "\n",
            "X_dim : 1920\n",
            "\n",
            "\n",
            "Y_dim : 1080\n",
            "\n",
            "\n",
            "IPS (Yes/No): no\n",
            "\n",
            "\n",
            "HD (Yes/No): yes\n",
            "\n",
            "\n",
            "SSD : 512\n",
            "\n",
            "\n",
            "HDD : 0\n",
            "\n",
            "\n",
            "Flash : 0\n",
            "\n",
            "\n",
            "Hybrid : 0\n",
            "\n",
            "\n"
          ]
        }
      ]
    },
    {
      "cell_type": "markdown",
      "source": [
        "If you prefer not to use the input application for forecasting, you can use the following ready-made sample data. This allows you to evaluate the model's performance with predefined inputs and ensure that the forecasting process works correctly. Modify the following sample data as needed."
      ],
      "metadata": {
        "id": "PHZgAR1ZlUR2"
      }
    },
    {
      "cell_type": "code",
      "source": [
        "arr = ['Dell', 'Notebook', 17.3, 'Intel Core i7', 16.0, 'AMD Radeon', 'Linux', 2.0, 0, 1920, 1080, 0, 1, 512, 0, 0, 0]"
      ],
      "metadata": {
        "id": "r53yNgZyVYF_"
      },
      "execution_count": null,
      "outputs": []
    },
    {
      "cell_type": "markdown",
      "source": [
        "To help with the forecasting process, a function has been created that takes input data (in terms of array), converts the input data into a dataframe that matches the format used by the model, makes a prediction based on the XGBoost model, and applies the inverse of the log transformation (exponential) to convert the predicted value back to its original scale in IDR (Indonesian Rupiah)."
      ],
      "metadata": {
        "id": "psVJuDuJlkTJ"
      }
    },
    {
      "cell_type": "code",
      "source": [
        "def forecast(arr, pipe=pipe):\n",
        "  forecast_df = pd.DataFrame([arr], columns=col_title.tolist())\n",
        "  forecasted_price = pipe.predict(forecast_df)\n",
        "  forecasted_price_idr = np.exp(forecasted_price)\n",
        "  print('Forecasted price: IDR', forecasted_price_idr[0])\n",
        "\n",
        "forecast(arr, final_model)"
      ],
      "metadata": {
        "colab": {
          "base_uri": "https://localhost:8080/"
        },
        "id": "XyDEy7gQVznP",
        "outputId": "79236292-41b7-4d25-9e5a-b40a205c0a02"
      },
      "execution_count": null,
      "outputs": [
        {
          "output_type": "stream",
          "name": "stdout",
          "text": [
            "Forecasted price: IDR 11243085.0\n"
          ]
        }
      ]
    }
  ]
}